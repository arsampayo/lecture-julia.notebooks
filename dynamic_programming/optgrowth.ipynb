{
 "cells": [
  {
   "cell_type": "markdown",
   "id": "473ab3a4",
   "metadata": {},
   "source": [
    "\n",
    "<a id='optgrowth'></a>"
   ]
  },
  {
   "cell_type": "markdown",
   "id": "7e90d72f",
   "metadata": {},
   "source": [
    "# Optimal Growth I: The Stochastic Optimal Growth Model"
   ]
  },
  {
   "cell_type": "markdown",
   "id": "c4dd53cb",
   "metadata": {},
   "source": [
    "To convert this jupyter notebook to a jl script use <convert_doc(\"optgrowth copy.ipynb\", \"optgrowth.jl\")> in the REPL (it needs the Weave package)"
   ]
  },
  {
   "cell_type": "markdown",
   "id": "a73e797f",
   "metadata": {},
   "source": [
    "## Contents\n",
    "\n",
    "- [Optimal Growth I: The Stochastic Optimal Growth Model](#Optimal-Growth-I:-The-Stochastic-Optimal-Growth-Model)  \n",
    "  - [Overview](#Overview)  \n",
    "  - [The Model](#The-Model)  \n",
    "  - [Computation](#Computation)  \n",
    "  - [Exercises](#Exercises)  \n",
    "  - [Solutions](#Solutions)  "
   ]
  },
  {
   "cell_type": "markdown",
   "id": "e2047fff",
   "metadata": {},
   "source": [
    "## Overview\n",
    "\n",
    "In this lecture we’re going to study a simple optimal growth model with one agent.\n",
    "\n",
    "The model is a version of the standard one sector infinite horizon growth model studied in\n",
    "\n",
    "- [[SLP89](https://julia.quantecon.org/../zreferences.html#id130)], chapter 2  \n",
    "- [[LS18](https://julia.quantecon.org/../zreferences.html#id99)], section 3.1  \n",
    "- [EDTC](http://johnstachurski.net/edtc.html), chapter 1  \n",
    "- [[Sun96](https://julia.quantecon.org/../zreferences.html#id132)], chapter 12  \n",
    "\n",
    "\n",
    "The technique we use to solve the model is dynamic programming.\n",
    "\n",
    "Our treatment of dynamic programming follows on from earlier\n",
    "treatments in our lectures on [shortest paths](https://julia.quantecon.org/short_path.html) and\n",
    "[job search](https://julia.quantecon.org/mccall_model.html).\n",
    "\n",
    "We’ll discuss some of the technical details of dynamic programming as we\n",
    "go along."
   ]
  },
  {
   "cell_type": "markdown",
   "id": "86893679",
   "metadata": {},
   "source": [
    "## The Model\n",
    "\n",
    "\n",
    "<a id='index-1'></a>\n",
    "Consider an agent who owns an amount $ y_t \\in \\mathbb R_+ := [0, \\infty) $ of a consumption good at time $ t $.\n",
    "\n",
    "This output can either be consumed or invested.\n",
    "\n",
    "When the good is invested it is transformed one-for-one into capital.\n",
    "\n",
    "The resulting capital stock, denoted here by $ k_{t+1} $, will then be used for production.\n",
    "\n",
    "Production is stochastic, in that it also depends on a shock $ \\xi_{t+1} $ realized at the end of the current period.\n",
    "\n",
    "Next period output is\n",
    "\n",
    "$$\n",
    "y_{t+1} := f(k_{t+1}) \\xi_{t+1}\n",
    "$$\n",
    "\n",
    "where $ f \\colon \\mathbb{R}_+ \\to \\mathbb{R}_+ $ is called the production function.\n",
    "\n",
    "The resource constraint is\n",
    "\n",
    "\n",
    "<a id='equation-outcsdp0'></a>\n",
    "$$\n",
    "k_{t+1} + c_t \\leq y_t \\tag{31.1}\n",
    "$$\n",
    "\n",
    "and all variables are required to be nonnegative."
   ]
  },
  {
   "cell_type": "markdown",
   "id": "b61eb0ad",
   "metadata": {},
   "source": [
    "### Assumptions and Comments\n",
    "\n",
    "In what follows,\n",
    "\n",
    "- The sequence $ \\{\\xi_t\\} $ is assumed to be IID.  \n",
    "- The common distribution of each $ \\xi_t $ will be denoted $ \\phi $.  \n",
    "- The production function $ f $ is assumed to be increasing and continuous.  \n",
    "- Depreciation of capital is not made explicit but can be incorporated into the production function.  \n",
    "\n",
    "\n",
    "While many other treatments of the stochastic growth model use $ k_t $ as the state variable, we will use $ y_t $.\n",
    "\n",
    "This will allow us to treat a stochastic model while maintaining only one state variable.\n",
    "\n",
    "We consider alternative states and timing specifications in some of our other lectures."
   ]
  },
  {
   "cell_type": "markdown",
   "id": "99ee3592",
   "metadata": {},
   "source": [
    "### Optimization\n",
    "\n",
    "Taking $ y_0 $ as given, the agent wishes to maximize\n",
    "\n",
    "\n",
    "<a id='equation-texs0-og2'></a>\n",
    "$$\n",
    "\\mathbb E \\left[ \\sum_{t = 0}^{\\infty} \\beta^t u(c_t) \\right] \\tag{31.2}\n",
    "$$\n",
    "\n",
    "subject to\n",
    "\n",
    "\n",
    "<a id='equation-og-conse'></a>\n",
    "$$\n",
    "y_{t+1} = f(y_t - c_t) \\xi_{t+1}\n",
    "\\quad \\text{and} \\quad\n",
    "0 \\leq c_t \\leq y_t\n",
    "\\quad \\text{for all } t \\tag{31.3}\n",
    "$$\n",
    "\n",
    "where\n",
    "\n",
    "- $ u $ is a bounded, continuous and strictly increasing utility function and  \n",
    "- $ \\beta \\in (0, 1) $ is a discount factor  \n",
    "\n",
    "\n",
    "In [(31.3)](#equation-og-conse) we are assuming that the resource constraint [(31.1)](#equation-outcsdp0) holds with equality — which is reasonable because $ u $ is strictly increasing and no output will be wasted at the optimum.\n",
    "\n",
    "In summary, the agent’s aim is to select a path $ c_0, c_1, c_2, \\ldots $ for consumption that is\n",
    "\n",
    "1. nonnegative,  \n",
    "1. feasible in the sense of [(31.1)](#equation-outcsdp0),  \n",
    "1. optimal, in the sense that it maximizes [(31.2)](#equation-texs0-og2) relative to all other feasible consumption sequences, and  \n",
    "1. *adapted*, in the sense that the action $ c_t $ depends only on\n",
    "  observable outcomes, not future outcomes such as $ \\xi_{t+1} $  \n",
    "\n",
    "\n",
    "In the present context\n",
    "\n",
    "- $ y_t $ is called the *state* variable — it summarizes the “state of the world” at the start of each period.  \n",
    "- $ c_t $ is called the *control* variable — a value chosen by the agent each period after observing the state.  "
   ]
  },
  {
   "cell_type": "markdown",
   "id": "5f15c6b3",
   "metadata": {},
   "source": [
    "### The Policy Function Approach\n",
    "\n",
    "\n",
    "<a id='index-2'></a>\n",
    "One way to think about solving this problem is to look for the best **policy function**.\n",
    "\n",
    "A policy function is a map from past and present observables into current action.\n",
    "\n",
    "We’ll be particularly interested in **Markov policies**, which are maps from the current state $ y_t $ into a current action $ c_t $.\n",
    "\n",
    "For dynamic programming problems such as this one (in fact for any [Markov decision process](https://en.wikipedia.org/wiki/Markov_decision_process)), the optimal policy is always a Markov policy.\n",
    "\n",
    "In other words, the current state $ y_t $ provides a sufficient statistic\n",
    "for the history in terms of making an optimal decision today.\n",
    "\n",
    "This is quite intuitive but if you wish you can find proofs in texts such as [[SLP89](https://julia.quantecon.org/../zreferences.html#id130)] (section 4.1).\n",
    "\n",
    "Hereafter we focus on finding the best Markov policy.\n",
    "\n",
    "In our context, a Markov policy is a function $ \\sigma \\colon\n",
    "\\mathbb R_+ \\to \\mathbb R_+ $, with the understanding that states are mapped to actions via\n",
    "\n",
    "$$\n",
    "c_t = \\sigma(y_t) \\quad \\text{for all } t\n",
    "$$\n",
    "\n",
    "In what follows, we will call $ \\sigma $ a *feasible consumption policy* if it satisfies\n",
    "\n",
    "\n",
    "<a id='equation-idp-fp-og2'></a>\n",
    "$$\n",
    "0 \\leq \\sigma(y) \\leq y\n",
    "\\quad \\text{for all} \\quad\n",
    "y \\in \\mathbb R_+ \\tag{31.4}\n",
    "$$\n",
    "\n",
    "In other words, a feasible consumption policy is a Markov policy that respects the resource constraint.\n",
    "\n",
    "The set of all feasible consumption policies will be denoted by $ \\Sigma $.\n",
    "\n",
    "Each $ \\sigma \\in \\Sigma $ determines a [continuous state Markov process](https://julia.quantecon.org/../tools_and_techniques/stationary_densities.html) $ \\{y_t\\} $ for output via\n",
    "\n",
    "\n",
    "<a id='equation-firstp0-og2'></a>\n",
    "$$\n",
    "y_{t+1} = f(y_t - \\sigma(y_t)) \\xi_{t+1},\n",
    "\\quad y_0 \\text{ given} \\tag{31.5}\n",
    "$$\n",
    "\n",
    "This is the time path for output when we choose and stick with the policy $ \\sigma $.\n",
    "\n",
    "We insert this process into the objective function to get\n",
    "\n",
    "\n",
    "<a id='equation-texss'></a>\n",
    "$$\n",
    "\\mathbb E\n",
    "\\left[ \\,\n",
    "\\sum_{t = 0}^{\\infty} \\beta^t u(c_t) \\,\n",
    "\\right] =\n",
    "\\mathbb E\n",
    "\\left[ \\,\n",
    "\\sum_{t = 0}^{\\infty} \\beta^t u(\\sigma(y_t)) \\,\n",
    "\\right] \\tag{31.6}\n",
    "$$\n",
    "\n",
    "This is the total expected present value of following policy $ \\sigma $ forever,\n",
    "given initial income $ y_0 $.\n",
    "\n",
    "The aim is to select a policy that makes this number as large as possible.\n",
    "\n",
    "The next section covers these ideas more formally."
   ]
  },
  {
   "cell_type": "markdown",
   "id": "52c36c22",
   "metadata": {},
   "source": [
    "### Optimality\n",
    "\n",
    "The **policy value function** $ v_{\\sigma} $ associated with a given policy $ \\sigma $ is the mapping defined by\n",
    "\n",
    "\n",
    "<a id='equation-vfcsdp00'></a>\n",
    "$$\n",
    "v_{\\sigma}(y) = \\mathbb E \\left[ \\sum_{t = 0}^{\\infty} \\beta^t u(\\sigma(y_t)) \\right] \\tag{31.7}\n",
    "$$\n",
    "\n",
    "when $ \\{y_t\\} $ is given by [(31.5)](#equation-firstp0-og2) with $ y_0 = y $.\n",
    "\n",
    "In other words, it is the lifetime value of following policy $ \\sigma $\n",
    "starting at initial condition $ y $.\n",
    "\n",
    "The **value function** is then defined as\n",
    "\n",
    "\n",
    "<a id='equation-vfcsdp0'></a>\n",
    "$$\n",
    "v^*(y) := \\sup_{\\sigma \\in \\Sigma} \\; v_{\\sigma}(y) \\tag{31.8}\n",
    "$$\n",
    "\n",
    "The value function gives the maximal value that can be obtained from state $ y $, after considering all feasible policies.\n",
    "\n",
    "A policy $ \\sigma \\in \\Sigma $ is called **optimal** if it attains the supremum in [(31.8)](#equation-vfcsdp0) for all $ y \\in \\mathbb R_+ $."
   ]
  },
  {
   "cell_type": "markdown",
   "id": "4208a6cc",
   "metadata": {},
   "source": [
    "### The Bellman Equation\n",
    "\n",
    "With our assumptions on utility and production function, the value function as defined in [(31.8)](#equation-vfcsdp0) also satisfies a **Bellman equation**.\n",
    "\n",
    "For this problem, the Bellman equation takes the form\n",
    "\n",
    "\n",
    "<a id='equation-fpb30'></a>\n",
    "$$\n",
    "w(y) = \\max_{0 \\leq c \\leq y}\n",
    "    \\left\\{\n",
    "        u(c) + \\beta \\int w(f(y - c) z) \\phi(dz)\n",
    "    \\right\\}\n",
    "\\qquad (y \\in \\mathbb R_+) \\tag{31.9}\n",
    "$$\n",
    "\n",
    "This is a *functional equation in* $ w $.\n",
    "\n",
    "The term $ \\int w(f(y - c) z) \\phi(dz) $ can be understood as the expected next period value when\n",
    "\n",
    "- $ w $ is used to measure value  \n",
    "- the state is $ y $  \n",
    "- consumption is set to $ c $  \n",
    "\n",
    "\n",
    "As shown in [EDTC](http://johnstachurski.net/edtc.html), theorem 10.1.11 and a range of other texts.\n",
    "\n",
    "> *The value function* $ v^* $ *satisfies the Bellman equation*\n",
    "\n",
    "\n",
    "In other words, [(31.9)](#equation-fpb30) holds when $ w=v^* $.\n",
    "\n",
    "The intuition is that maximal value from a given state can be obtained by optimally trading off\n",
    "\n",
    "- current reward from a given action, vs  \n",
    "- expected discounted future value of the state resulting from that action  \n",
    "\n",
    "\n",
    "The Bellman equation is important because it gives us more information about the value function.\n",
    "\n",
    "It also suggests a way of computing the value function, which we discuss below."
   ]
  },
  {
   "cell_type": "markdown",
   "id": "3bb519b4",
   "metadata": {},
   "source": [
    "### Greedy policies\n",
    "\n",
    "The primary importance of the value function is that we can use it to compute optimal policies.\n",
    "\n",
    "The details are as follows.\n",
    "\n",
    "Given a continuous function $ w $ on $ \\mathbb R_+ $, we say that $ \\sigma \\in \\Sigma $ is $ w $-**greedy** if $ \\sigma(y) $ is a solution to\n",
    "\n",
    "\n",
    "<a id='equation-defgp20'></a>\n",
    "$$\n",
    "\\max_{0 \\leq c \\leq y}\n",
    "    \\left\\{\n",
    "    u(c) + \\beta \\int w(f(y - c) z) \\phi(dz)\n",
    "    \\right\\} \\tag{31.10}\n",
    "$$\n",
    "\n",
    "for every $ y \\in \\mathbb R_+ $.\n",
    "\n",
    "In other words, $ \\sigma \\in \\Sigma $ is $ w $-greedy if it optimally\n",
    "trades off current and future rewards when $ w $ is taken to be the value\n",
    "function.\n",
    "\n",
    "In our setting, we have the following key result\n",
    "\n",
    "> *A feasible consumption  policy is optimal if and only if it is* $ v^* $-*greedy*\n",
    "\n",
    "\n",
    "The intuition is similar to the intuition for the Bellman equation, which was\n",
    "provided after [(31.9)](#equation-fpb30).\n",
    "\n",
    "See, for example, theorem 10.1.11 of [EDTC](http://johnstachurski.net/edtc.html).\n",
    "\n",
    "Hence, once we have a good approximation to $ v^* $, we can compute the (approximately) optimal policy by computing the corresponding greedy policy.\n",
    "\n",
    "The advantage is that we are now solving a much lower dimensional optimization\n",
    "problem."
   ]
  },
  {
   "cell_type": "markdown",
   "id": "6b7a6e08",
   "metadata": {},
   "source": [
    "### The Bellman Operator\n",
    "\n",
    "How, then, should we compute the value function?\n",
    "\n",
    "One way is to use the so-called **Bellman operator**.\n",
    "\n",
    "(An operator is a map that sends functions into functions)\n",
    "\n",
    "The Bellman operator is denoted by $ T $ and defined by\n",
    "\n",
    "\n",
    "<a id='equation-fcbell20-optgrowth'></a>\n",
    "$$\n",
    "Tw(y) := \\max_{0 \\leq c \\leq y}\n",
    "\\left\\{\n",
    "    u(c) + \\beta \\int w(f(y - c) z) \\phi(dz)\n",
    "\\right\\}\n",
    "\\qquad (y \\in \\mathbb R_+) \\tag{31.11}\n",
    "$$\n",
    "\n",
    "In other words, $ T $ sends the function $ w $ into the new function\n",
    "$ Tw $ defined [(31.11)](#equation-fcbell20-optgrowth).\n",
    "\n",
    "By construction, the set of solutions to the Bellman equation [(31.9)](#equation-fpb30) *exactly coincides with* the set of fixed points of $ T $.\n",
    "\n",
    "For example, if $ Tw = w $, then, for any $ y \\geq 0 $,\n",
    "\n",
    "$$\n",
    "w(y)\n",
    "= Tw(y)\n",
    "= \\max_{0 \\leq c \\leq y}\n",
    "\\left\\{\n",
    "    u(c) + \\beta \\int v^*(f(y - c) z) \\phi(dz)\n",
    "\\right\\}\n",
    "$$\n",
    "\n",
    "which says precisely that $ w $ is a solution to the Bellman equation.\n",
    "\n",
    "It follows that $ v^* $ is a fixed point of $ T $."
   ]
  },
  {
   "cell_type": "markdown",
   "id": "8763ea2f",
   "metadata": {},
   "source": [
    "### Review of Theoretical Results\n",
    "\n",
    "\n",
    "<a id='index-3'></a>\n",
    "One can also show that $ T $ is a contraction mapping on the set of continuous bounded functions on $ \\mathbb R_+ $ under the supremum distance\n",
    "\n",
    "$$\n",
    "\\rho(g, h) = \\sup_{y \\geq 0} |g(y) - h(y)|\n",
    "$$\n",
    "\n",
    "See  [EDTC](http://johnstachurski.net/edtc.html), lemma 10.1.18.\n",
    "\n",
    "Hence it has exactly one fixed point in this set, which we know is equal to the value function.\n",
    "\n",
    "It follows that\n",
    "\n",
    "- The value function $ v^* $ is bounded and continuous.  \n",
    "- Starting from any bounded and continuous $ w $, the sequence $ w, Tw, T^2 w, \\ldots $ generated by iteratively applying $ T $ converges uniformly to $ v^* $.  \n",
    "\n",
    "\n",
    "This iterative method is called **value function iteration**.\n",
    "\n",
    "We also know that a feasible policy is optimal if and only if it is $ v^* $-greedy.\n",
    "\n",
    "It’s not too hard to show that a $ v^* $-greedy policy exists (see  [EDTC](http://johnstachurski.net/edtc.html), theorem 10.1.11 if you get stuck).\n",
    "\n",
    "Hence at least one optimal policy exists.\n",
    "\n",
    "Our problem now is how to compute it."
   ]
  },
  {
   "cell_type": "markdown",
   "id": "b2f03804",
   "metadata": {},
   "source": [
    "### Unbounded Utility\n",
    "\n",
    "\n",
    "<a id='index-5'></a>\n",
    "The results stated above assume that the utility function is bounded.\n",
    "\n",
    "In practice economists often work with unbounded utility functions — and so will we.\n",
    "\n",
    "In the unbounded setting, various optimality theories exist.\n",
    "\n",
    "Unfortunately, they tend to be case specific, as opposed to valid for a large range of applications.\n",
    "\n",
    "Nevertheless, their main conclusions are usually in line with those stated for\n",
    "the bounded case just above (as long as we drop the word “bounded”).\n",
    "\n",
    "Consult,  for example, section 12.2 of [EDTC](http://johnstachurski.net/edtc.html), [[Kam12](https://julia.quantecon.org/../zreferences.html#id94)] or [[MdRV10](https://julia.quantecon.org/../zreferences.html#id105)]."
   ]
  },
  {
   "cell_type": "markdown",
   "id": "8b64d68a",
   "metadata": {},
   "source": [
    "## Computation\n",
    "\n",
    "\n",
    "<a id='index-6'></a>\n",
    "Let’s now look at computing the value function and the optimal policy."
   ]
  },
  {
   "cell_type": "markdown",
   "id": "dcc3b029",
   "metadata": {},
   "source": [
    "### Fitted Value Iteration\n",
    "\n",
    "\n",
    "<a id='index-7'></a>\n",
    "The first step is to compute the value function by value function iteration.\n",
    "\n",
    "In theory, the algorithm is as follows\n",
    "\n",
    "1. Begin with a function $ w $ — an initial condition.  \n",
    "1. Solving [(31.11)](#equation-fcbell20-optgrowth), obtain the function $ T w $.  \n",
    "1. Unless some stopping condition is satisfied, set $ w = Tw $ and go to step 2.  \n",
    "\n",
    "\n",
    "This generates the sequence $ w, Tw, T^2 w, \\ldots $.\n",
    "\n",
    "However, there is a problem we must confront before we implement this procedure: The iterates can neither be calculated exactly nor stored on a computer.\n",
    "\n",
    "To see the issue, consider [(31.11)](#equation-fcbell20-optgrowth).\n",
    "\n",
    "Even if $ w $ is a known function, unless $ Tw $ can be shown to have\n",
    "some special structure, the only way to store it is to record the\n",
    "value $ Tw(y) $ for every $ y \\in \\mathbb R_+ $.\n",
    "\n",
    "Clearly this is impossible.\n",
    "\n",
    "What we will do instead is use **fitted value function iteration**.\n",
    "\n",
    "The procedure is to record the value of the function $ Tw $ at only finitely many “grid” points $ y_1 < y_2 < \\cdots < y_I $ and reconstruct it from this information when required.\n",
    "\n",
    "More precisely, the algorithm will be\n",
    "\n",
    "\n",
    "<a id='fvi-alg'></a>\n",
    "1. Begin with an array of values $ \\{ w_1, \\ldots, w_I \\} $ representing the values of some initial function $ w $ on the grid points $ \\{ y_1, \\ldots, y_I \\} $.  \n",
    "1. Build a function $ \\hat w $ on the state space $ \\mathbb R_+ $ by interpolation or approximation, based on these data points.  \n",
    "1. Obtain and record the value $ T \\hat w(y_i) $ on each grid point $ y_i $ by repeatedly solving [(31.11)](#equation-fcbell20-optgrowth).  \n",
    "1. Unless some stopping condition is satisfied, set $ \\{ w_1, \\ldots, w_I \\} = \\{ T \\hat w(y_1), \\ldots, T \\hat w(y_I) \\} $ and go to step 2.  \n",
    "\n",
    "\n",
    "How should we go about step 2?\n",
    "\n",
    "This is a problem of function approximation, and there are many ways to approach it.\n",
    "\n",
    "What’s important here is that the function approximation scheme must not only produce a good approximation to $ Tw $, but also combine well with the broader iteration algorithm described above.\n",
    "\n",
    "The next figure illustrates piecewise linear interpolation of an arbitrary function on grid points $ 0, 0.2, 0.4, 0.6, 0.8, 1 $."
   ]
  },
  {
   "cell_type": "code",
   "execution_count": 3,
   "id": "cc348d49",
   "metadata": {
    "hide-output": false
   },
   "outputs": [],
   "source": [
    "using LinearAlgebra, Statistics\n",
    "using Plots, QuantEcon, Interpolations, NLsolve, Optim, Random"
   ]
  },
  {
   "cell_type": "code",
   "execution_count": 4,
   "id": "d5417e3e",
   "metadata": {
    "hide-output": false
   },
   "outputs": [
    {
     "name": "stderr",
     "output_type": "stream",
     "text": [
      "┌ Info: Precompiling GR_jll [d2c73de3-f751-5644-a686-071e5b155ba9]\n",
      "└ @ Base loading.jl:1342\n"
     ]
    },
    {
     "data": {
      "image/svg+xml": "<?xml version=\"1.0\" encoding=\"utf-8\"?>\n<svg xmlns=\"http://www.w3.org/2000/svg\" xmlns:xlink=\"http://www.w3.org/1999/xlink\" width=\"600\" height=\"400\" viewBox=\"0 0 2400 1600\">\n<defs>\n  <clipPath id=\"clip770\">\n    <rect x=\"0\" y=\"0\" width=\"2400\" height=\"1600\"/>\n  </clipPath>\n</defs>\n<path clip-path=\"url(#clip770)\" d=\"\nM0 1600 L2400 1600 L2400 0 L0 0  Z\n  \" fill=\"#ffffff\" fill-rule=\"evenodd\" fill-opacity=\"1\"/>\n<defs>\n  <clipPath id=\"clip771\">\n    <rect x=\"480\" y=\"0\" width=\"1681\" height=\"1600\"/>\n  </clipPath>\n</defs>\n<path clip-path=\"url(#clip770)\" d=\"\nM112.177 1486.45 L2352.76 1486.45 L2352.76 47.2441 L112.177 47.2441  Z\n  \" fill=\"#ffffff\" fill-rule=\"evenodd\" fill-opacity=\"1\"/>\n<defs>\n  <clipPath id=\"clip772\">\n    <rect x=\"112\" y=\"47\" width=\"2242\" height=\"1440\"/>\n  </clipPath>\n</defs>\n<polyline clip-path=\"url(#clip772)\" style=\"stroke:#000000; stroke-linecap:butt; stroke-linejoin:round; stroke-width:2; stroke-opacity:0.1; fill:none\" points=\"\n  112.177,1486.45 112.177,47.2441 \n  \"/>\n<polyline clip-path=\"url(#clip772)\" style=\"stroke:#000000; stroke-linecap:butt; stroke-linejoin:round; stroke-width:2; stroke-opacity:0.1; fill:none\" points=\"\n  560.293,1486.45 560.293,47.2441 \n  \"/>\n<polyline clip-path=\"url(#clip772)\" style=\"stroke:#000000; stroke-linecap:butt; stroke-linejoin:round; stroke-width:2; stroke-opacity:0.1; fill:none\" points=\"\n  1008.41,1486.45 1008.41,47.2441 \n  \"/>\n<polyline clip-path=\"url(#clip772)\" style=\"stroke:#000000; stroke-linecap:butt; stroke-linejoin:round; stroke-width:2; stroke-opacity:0.1; fill:none\" points=\"\n  1456.52,1486.45 1456.52,47.2441 \n  \"/>\n<polyline clip-path=\"url(#clip772)\" style=\"stroke:#000000; stroke-linecap:butt; stroke-linejoin:round; stroke-width:2; stroke-opacity:0.1; fill:none\" points=\"\n  1904.64,1486.45 1904.64,47.2441 \n  \"/>\n<polyline clip-path=\"url(#clip772)\" style=\"stroke:#000000; stroke-linecap:butt; stroke-linejoin:round; stroke-width:2; stroke-opacity:0.1; fill:none\" points=\"\n  2352.76,1486.45 2352.76,47.2441 \n  \"/>\n<polyline clip-path=\"url(#clip770)\" style=\"stroke:#000000; stroke-linecap:butt; stroke-linejoin:round; stroke-width:4; stroke-opacity:1; fill:none\" points=\"\n  112.177,1486.45 2352.76,1486.45 \n  \"/>\n<polyline clip-path=\"url(#clip770)\" style=\"stroke:#000000; stroke-linecap:butt; stroke-linejoin:round; stroke-width:4; stroke-opacity:1; fill:none\" points=\"\n  112.177,1486.45 112.177,1467.55 \n  \"/>\n<polyline clip-path=\"url(#clip770)\" style=\"stroke:#000000; stroke-linecap:butt; stroke-linejoin:round; stroke-width:4; stroke-opacity:1; fill:none\" points=\"\n  560.293,1486.45 560.293,1467.55 \n  \"/>\n<polyline clip-path=\"url(#clip770)\" style=\"stroke:#000000; stroke-linecap:butt; stroke-linejoin:round; stroke-width:4; stroke-opacity:1; fill:none\" points=\"\n  1008.41,1486.45 1008.41,1467.55 \n  \"/>\n<polyline clip-path=\"url(#clip770)\" style=\"stroke:#000000; stroke-linecap:butt; stroke-linejoin:round; stroke-width:4; stroke-opacity:1; fill:none\" points=\"\n  1456.52,1486.45 1456.52,1467.55 \n  \"/>\n<polyline clip-path=\"url(#clip770)\" style=\"stroke:#000000; stroke-linecap:butt; stroke-linejoin:round; stroke-width:4; stroke-opacity:1; fill:none\" points=\"\n  1904.64,1486.45 1904.64,1467.55 \n  \"/>\n<polyline clip-path=\"url(#clip770)\" style=\"stroke:#000000; stroke-linecap:butt; stroke-linejoin:round; stroke-width:4; stroke-opacity:1; fill:none\" points=\"\n  2352.76,1486.45 2352.76,1467.55 \n  \"/>\n<path clip-path=\"url(#clip770)\" d=\"M89.5616 1515.64 Q85.9505 1515.64 84.1218 1519.2 Q82.3162 1522.75 82.3162 1529.87 Q82.3162 1536.98 84.1218 1540.55 Q85.9505 1544.09 89.5616 1544.09 Q93.1958 1544.09 95.0013 1540.55 Q96.83 1536.98 96.83 1529.87 Q96.83 1522.75 95.0013 1519.2 Q93.1958 1515.64 89.5616 1515.64 M89.5616 1511.93 Q95.3717 1511.93 98.4272 1516.54 Q101.506 1521.12 101.506 1529.87 Q101.506 1538.6 98.4272 1543.21 Q95.3717 1547.79 89.5616 1547.79 Q83.7514 1547.79 80.6727 1543.21 Q77.6172 1538.6 77.6172 1529.87 Q77.6172 1521.12 80.6727 1516.54 Q83.7514 1511.93 89.5616 1511.93 Z\" fill=\"#000000\" fill-rule=\"evenodd\" fill-opacity=\"1\" /><path clip-path=\"url(#clip770)\" d=\"M109.723 1541.24 L114.608 1541.24 L114.608 1547.12 L109.723 1547.12 L109.723 1541.24 Z\" fill=\"#000000\" fill-rule=\"evenodd\" fill-opacity=\"1\" /><path clip-path=\"url(#clip770)\" d=\"M134.793 1515.64 Q131.182 1515.64 129.353 1519.2 Q127.547 1522.75 127.547 1529.87 Q127.547 1536.98 129.353 1540.55 Q131.182 1544.09 134.793 1544.09 Q138.427 1544.09 140.233 1540.55 Q142.061 1536.98 142.061 1529.87 Q142.061 1522.75 140.233 1519.2 Q138.427 1515.64 134.793 1515.64 M134.793 1511.93 Q140.603 1511.93 143.658 1516.54 Q146.737 1521.12 146.737 1529.87 Q146.737 1538.6 143.658 1543.21 Q140.603 1547.79 134.793 1547.79 Q128.983 1547.79 125.904 1543.21 Q122.848 1538.6 122.848 1529.87 Q122.848 1521.12 125.904 1516.54 Q128.983 1511.93 134.793 1511.93 Z\" fill=\"#000000\" fill-rule=\"evenodd\" fill-opacity=\"1\" /><path clip-path=\"url(#clip770)\" d=\"M538.476 1515.64 Q534.865 1515.64 533.036 1519.2 Q531.231 1522.75 531.231 1529.87 Q531.231 1536.98 533.036 1540.55 Q534.865 1544.09 538.476 1544.09 Q542.11 1544.09 543.916 1540.55 Q545.744 1536.98 545.744 1529.87 Q545.744 1522.75 543.916 1519.2 Q542.11 1515.64 538.476 1515.64 M538.476 1511.93 Q544.286 1511.93 547.342 1516.54 Q550.42 1521.12 550.42 1529.87 Q550.42 1538.6 547.342 1543.21 Q544.286 1547.79 538.476 1547.79 Q532.666 1547.79 529.587 1543.21 Q526.532 1538.6 526.532 1529.87 Q526.532 1521.12 529.587 1516.54 Q532.666 1511.93 538.476 1511.93 Z\" fill=\"#000000\" fill-rule=\"evenodd\" fill-opacity=\"1\" /><path clip-path=\"url(#clip770)\" d=\"M558.638 1541.24 L563.522 1541.24 L563.522 1547.12 L558.638 1547.12 L558.638 1541.24 Z\" fill=\"#000000\" fill-rule=\"evenodd\" fill-opacity=\"1\" /><path clip-path=\"url(#clip770)\" d=\"M577.735 1543.18 L594.054 1543.18 L594.054 1547.12 L572.11 1547.12 L572.11 1543.18 Q574.772 1540.43 579.355 1535.8 Q583.962 1531.15 585.142 1529.81 Q587.388 1527.28 588.267 1525.55 Q589.17 1523.79 589.17 1522.1 Q589.17 1519.34 587.226 1517.61 Q585.304 1515.87 582.203 1515.87 Q580.003 1515.87 577.55 1516.63 Q575.119 1517.4 572.341 1518.95 L572.341 1514.23 Q575.166 1513.09 577.619 1512.51 Q580.073 1511.93 582.11 1511.93 Q587.48 1511.93 590.675 1514.62 Q593.869 1517.31 593.869 1521.8 Q593.869 1523.93 593.059 1525.85 Q592.272 1527.74 590.165 1530.34 Q589.587 1531.01 586.485 1534.23 Q583.383 1537.42 577.735 1543.18 Z\" fill=\"#000000\" fill-rule=\"evenodd\" fill-opacity=\"1\" /><path clip-path=\"url(#clip770)\" d=\"M985.55 1515.64 Q981.939 1515.64 980.11 1519.2 Q978.305 1522.75 978.305 1529.87 Q978.305 1536.98 980.11 1540.55 Q981.939 1544.09 985.55 1544.09 Q989.184 1544.09 990.99 1540.55 Q992.818 1536.98 992.818 1529.87 Q992.818 1522.75 990.99 1519.2 Q989.184 1515.64 985.55 1515.64 M985.55 1511.93 Q991.36 1511.93 994.416 1516.54 Q997.494 1521.12 997.494 1529.87 Q997.494 1538.6 994.416 1543.21 Q991.36 1547.79 985.55 1547.79 Q979.74 1547.79 976.661 1543.21 Q973.606 1538.6 973.606 1529.87 Q973.606 1521.12 976.661 1516.54 Q979.74 1511.93 985.55 1511.93 Z\" fill=\"#000000\" fill-rule=\"evenodd\" fill-opacity=\"1\" /><path clip-path=\"url(#clip770)\" d=\"M1005.71 1541.24 L1010.6 1541.24 L1010.6 1547.12 L1005.71 1547.12 L1005.71 1541.24 Z\" fill=\"#000000\" fill-rule=\"evenodd\" fill-opacity=\"1\" /><path clip-path=\"url(#clip770)\" d=\"M1033.63 1516.63 L1021.82 1535.08 L1033.63 1535.08 L1033.63 1516.63 M1032.4 1512.56 L1038.28 1512.56 L1038.28 1535.08 L1043.21 1535.08 L1043.21 1538.97 L1038.28 1538.97 L1038.28 1547.12 L1033.63 1547.12 L1033.63 1538.97 L1018.03 1538.97 L1018.03 1534.46 L1032.4 1512.56 Z\" fill=\"#000000\" fill-rule=\"evenodd\" fill-opacity=\"1\" /><path clip-path=\"url(#clip770)\" d=\"M1433.83 1515.64 Q1430.22 1515.64 1428.39 1519.2 Q1426.58 1522.75 1426.58 1529.87 Q1426.58 1536.98 1428.39 1540.55 Q1430.22 1544.09 1433.83 1544.09 Q1437.46 1544.09 1439.27 1540.55 Q1441.1 1536.98 1441.1 1529.87 Q1441.1 1522.75 1439.27 1519.2 Q1437.46 1515.64 1433.83 1515.64 M1433.83 1511.93 Q1439.64 1511.93 1442.69 1516.54 Q1445.77 1521.12 1445.77 1529.87 Q1445.77 1538.6 1442.69 1543.21 Q1439.64 1547.79 1433.83 1547.79 Q1428.02 1547.79 1424.94 1543.21 Q1421.88 1538.6 1421.88 1529.87 Q1421.88 1521.12 1424.94 1516.54 Q1428.02 1511.93 1433.83 1511.93 Z\" fill=\"#000000\" fill-rule=\"evenodd\" fill-opacity=\"1\" /><path clip-path=\"url(#clip770)\" d=\"M1453.99 1541.24 L1458.87 1541.24 L1458.87 1547.12 L1453.99 1547.12 L1453.99 1541.24 Z\" fill=\"#000000\" fill-rule=\"evenodd\" fill-opacity=\"1\" /><path clip-path=\"url(#clip770)\" d=\"M1479.64 1527.98 Q1476.49 1527.98 1474.64 1530.13 Q1472.81 1532.28 1472.81 1536.03 Q1472.81 1539.76 1474.64 1541.93 Q1476.49 1544.09 1479.64 1544.09 Q1482.79 1544.09 1484.61 1541.93 Q1486.47 1539.76 1486.47 1536.03 Q1486.47 1532.28 1484.61 1530.13 Q1482.79 1527.98 1479.64 1527.98 M1488.92 1513.32 L1488.92 1517.58 Q1487.16 1516.75 1485.36 1516.31 Q1483.57 1515.87 1481.81 1515.87 Q1477.18 1515.87 1474.73 1519 Q1472.3 1522.12 1471.95 1528.44 Q1473.32 1526.43 1475.38 1525.36 Q1477.44 1524.27 1479.92 1524.27 Q1485.12 1524.27 1488.13 1527.44 Q1491.17 1530.59 1491.17 1536.03 Q1491.17 1541.36 1488.02 1544.57 Q1484.87 1547.79 1479.64 1547.79 Q1473.64 1547.79 1470.47 1543.21 Q1467.3 1538.6 1467.3 1529.87 Q1467.3 1521.68 1471.19 1516.82 Q1475.08 1511.93 1481.63 1511.93 Q1483.39 1511.93 1485.17 1512.28 Q1486.98 1512.63 1488.92 1513.32 Z\" fill=\"#000000\" fill-rule=\"evenodd\" fill-opacity=\"1\" /><path clip-path=\"url(#clip770)\" d=\"M1882.07 1515.64 Q1878.46 1515.64 1876.63 1519.2 Q1874.83 1522.75 1874.83 1529.87 Q1874.83 1536.98 1876.63 1540.55 Q1878.46 1544.09 1882.07 1544.09 Q1885.71 1544.09 1887.51 1540.55 Q1889.34 1536.98 1889.34 1529.87 Q1889.34 1522.75 1887.51 1519.2 Q1885.71 1515.64 1882.07 1515.64 M1882.07 1511.93 Q1887.88 1511.93 1890.94 1516.54 Q1894.02 1521.12 1894.02 1529.87 Q1894.02 1538.6 1890.94 1543.21 Q1887.88 1547.79 1882.07 1547.79 Q1876.26 1547.79 1873.18 1543.21 Q1870.13 1538.6 1870.13 1529.87 Q1870.13 1521.12 1873.18 1516.54 Q1876.26 1511.93 1882.07 1511.93 Z\" fill=\"#000000\" fill-rule=\"evenodd\" fill-opacity=\"1\" /><path clip-path=\"url(#clip770)\" d=\"M1902.23 1541.24 L1907.12 1541.24 L1907.12 1547.12 L1902.23 1547.12 L1902.23 1541.24 Z\" fill=\"#000000\" fill-rule=\"evenodd\" fill-opacity=\"1\" /><path clip-path=\"url(#clip770)\" d=\"M1927.3 1530.71 Q1923.97 1530.71 1922.05 1532.49 Q1920.15 1534.27 1920.15 1537.4 Q1920.15 1540.52 1922.05 1542.31 Q1923.97 1544.09 1927.3 1544.09 Q1930.64 1544.09 1932.56 1542.31 Q1934.48 1540.5 1934.48 1537.4 Q1934.48 1534.27 1932.56 1532.49 Q1930.66 1530.71 1927.3 1530.71 M1922.63 1528.72 Q1919.62 1527.98 1917.93 1525.92 Q1916.26 1523.86 1916.26 1520.89 Q1916.26 1516.75 1919.2 1514.34 Q1922.16 1511.93 1927.3 1511.93 Q1932.46 1511.93 1935.4 1514.34 Q1938.34 1516.75 1938.34 1520.89 Q1938.34 1523.86 1936.65 1525.92 Q1934.99 1527.98 1932 1528.72 Q1935.38 1529.5 1937.26 1531.8 Q1939.15 1534.09 1939.15 1537.4 Q1939.15 1542.42 1936.08 1545.11 Q1933.02 1547.79 1927.3 1547.79 Q1921.58 1547.79 1918.51 1545.11 Q1915.45 1542.42 1915.45 1537.4 Q1915.45 1534.09 1917.35 1531.8 Q1919.25 1529.5 1922.63 1528.72 M1920.91 1521.33 Q1920.91 1524.02 1922.58 1525.52 Q1924.27 1527.03 1927.3 1527.03 Q1930.31 1527.03 1932 1525.52 Q1933.71 1524.02 1933.71 1521.33 Q1933.71 1518.65 1932 1517.14 Q1930.31 1515.64 1927.3 1515.64 Q1924.27 1515.64 1922.58 1517.14 Q1920.91 1518.65 1920.91 1521.33 Z\" fill=\"#000000\" fill-rule=\"evenodd\" fill-opacity=\"1\" /><path clip-path=\"url(#clip770)\" d=\"M2319.91 1543.18 L2327.55 1543.18 L2327.55 1516.82 L2319.24 1518.49 L2319.24 1514.23 L2327.5 1512.56 L2332.18 1512.56 L2332.18 1543.18 L2339.82 1543.18 L2339.82 1547.12 L2319.91 1547.12 L2319.91 1543.18 Z\" fill=\"#000000\" fill-rule=\"evenodd\" fill-opacity=\"1\" /><path clip-path=\"url(#clip770)\" d=\"M2349.26 1541.24 L2354.14 1541.24 L2354.14 1547.12 L2349.26 1547.12 L2349.26 1541.24 Z\" fill=\"#000000\" fill-rule=\"evenodd\" fill-opacity=\"1\" /><path clip-path=\"url(#clip770)\" d=\"M2374.33 1515.64 Q2370.72 1515.64 2368.89 1519.2 Q2367.08 1522.75 2367.08 1529.87 Q2367.08 1536.98 2368.89 1540.55 Q2370.72 1544.09 2374.33 1544.09 Q2377.96 1544.09 2379.77 1540.55 Q2381.6 1536.98 2381.6 1529.87 Q2381.6 1522.75 2379.77 1519.2 Q2377.96 1515.64 2374.33 1515.64 M2374.33 1511.93 Q2380.14 1511.93 2383.2 1516.54 Q2386.27 1521.12 2386.27 1529.87 Q2386.27 1538.6 2383.2 1543.21 Q2380.14 1547.79 2374.33 1547.79 Q2368.52 1547.79 2365.44 1543.21 Q2362.39 1538.6 2362.39 1529.87 Q2362.39 1521.12 2365.44 1516.54 Q2368.52 1511.93 2374.33 1511.93 Z\" fill=\"#000000\" fill-rule=\"evenodd\" fill-opacity=\"1\" /><polyline clip-path=\"url(#clip772)\" style=\"stroke:#000000; stroke-linecap:butt; stroke-linejoin:round; stroke-width:2; stroke-opacity:0.1; fill:none\" points=\"\n  112.177,1486.45 2352.76,1486.45 \n  \"/>\n<polyline clip-path=\"url(#clip772)\" style=\"stroke:#000000; stroke-linecap:butt; stroke-linejoin:round; stroke-width:2; stroke-opacity:0.1; fill:none\" points=\"\n  112.177,1246.58 2352.76,1246.58 \n  \"/>\n<polyline clip-path=\"url(#clip772)\" style=\"stroke:#000000; stroke-linecap:butt; stroke-linejoin:round; stroke-width:2; stroke-opacity:0.1; fill:none\" points=\"\n  112.177,1006.71 2352.76,1006.71 \n  \"/>\n<polyline clip-path=\"url(#clip772)\" style=\"stroke:#000000; stroke-linecap:butt; stroke-linejoin:round; stroke-width:2; stroke-opacity:0.1; fill:none\" points=\"\n  112.177,766.846 2352.76,766.846 \n  \"/>\n<polyline clip-path=\"url(#clip772)\" style=\"stroke:#000000; stroke-linecap:butt; stroke-linejoin:round; stroke-width:2; stroke-opacity:0.1; fill:none\" points=\"\n  112.177,526.979 2352.76,526.979 \n  \"/>\n<polyline clip-path=\"url(#clip772)\" style=\"stroke:#000000; stroke-linecap:butt; stroke-linejoin:round; stroke-width:2; stroke-opacity:0.1; fill:none\" points=\"\n  112.177,287.111 2352.76,287.111 \n  \"/>\n<polyline clip-path=\"url(#clip772)\" style=\"stroke:#000000; stroke-linecap:butt; stroke-linejoin:round; stroke-width:2; stroke-opacity:0.1; fill:none\" points=\"\n  112.177,47.2441 2352.76,47.2441 \n  \"/>\n<polyline clip-path=\"url(#clip770)\" style=\"stroke:#000000; stroke-linecap:butt; stroke-linejoin:round; stroke-width:4; stroke-opacity:1; fill:none\" points=\"\n  112.177,1486.45 112.177,47.2441 \n  \"/>\n<polyline clip-path=\"url(#clip770)\" style=\"stroke:#000000; stroke-linecap:butt; stroke-linejoin:round; stroke-width:4; stroke-opacity:1; fill:none\" points=\"\n  112.177,1486.45 131.075,1486.45 \n  \"/>\n<polyline clip-path=\"url(#clip770)\" style=\"stroke:#000000; stroke-linecap:butt; stroke-linejoin:round; stroke-width:4; stroke-opacity:1; fill:none\" points=\"\n  112.177,1246.58 131.075,1246.58 \n  \"/>\n<polyline clip-path=\"url(#clip770)\" style=\"stroke:#000000; stroke-linecap:butt; stroke-linejoin:round; stroke-width:4; stroke-opacity:1; fill:none\" points=\"\n  112.177,1006.71 131.075,1006.71 \n  \"/>\n<polyline clip-path=\"url(#clip770)\" style=\"stroke:#000000; stroke-linecap:butt; stroke-linejoin:round; stroke-width:4; stroke-opacity:1; fill:none\" points=\"\n  112.177,766.846 131.075,766.846 \n  \"/>\n<polyline clip-path=\"url(#clip770)\" style=\"stroke:#000000; stroke-linecap:butt; stroke-linejoin:round; stroke-width:4; stroke-opacity:1; fill:none\" points=\"\n  112.177,526.979 131.075,526.979 \n  \"/>\n<polyline clip-path=\"url(#clip770)\" style=\"stroke:#000000; stroke-linecap:butt; stroke-linejoin:round; stroke-width:4; stroke-opacity:1; fill:none\" points=\"\n  112.177,287.111 131.075,287.111 \n  \"/>\n<polyline clip-path=\"url(#clip770)\" style=\"stroke:#000000; stroke-linecap:butt; stroke-linejoin:round; stroke-width:4; stroke-opacity:1; fill:none\" points=\"\n  112.177,47.2441 131.075,47.2441 \n  \"/>\n<path clip-path=\"url(#clip770)\" d=\"M64.2328 1472.25 Q60.6217 1472.25 58.793 1475.81 Q56.9875 1479.35 56.9875 1486.48 Q56.9875 1493.59 58.793 1497.15 Q60.6217 1500.7 64.2328 1500.7 Q67.867 1500.7 69.6726 1497.15 Q71.5013 1493.59 71.5013 1486.48 Q71.5013 1479.35 69.6726 1475.81 Q67.867 1472.25 64.2328 1472.25 M64.2328 1468.54 Q70.0429 1468.54 73.0985 1473.15 Q76.1772 1477.73 76.1772 1486.48 Q76.1772 1495.21 73.0985 1499.82 Q70.0429 1504.4 64.2328 1504.4 Q58.4226 1504.4 55.344 1499.82 Q52.2884 1495.21 52.2884 1486.48 Q52.2884 1477.73 55.344 1473.15 Q58.4226 1468.54 64.2328 1468.54 Z\" fill=\"#000000\" fill-rule=\"evenodd\" fill-opacity=\"1\" /><path clip-path=\"url(#clip770)\" d=\"M56.2699 1259.93 L63.9087 1259.93 L63.9087 1233.56 L55.5986 1235.23 L55.5986 1230.97 L63.8624 1229.3 L68.5383 1229.3 L68.5383 1259.93 L76.1772 1259.93 L76.1772 1263.86 L56.2699 1263.86 L56.2699 1259.93 Z\" fill=\"#000000\" fill-rule=\"evenodd\" fill-opacity=\"1\" /><path clip-path=\"url(#clip770)\" d=\"M59.8578 1020.06 L76.1772 1020.06 L76.1772 1023.99 L54.2328 1023.99 L54.2328 1020.06 Q56.8949 1017.3 61.4782 1012.67 Q66.0846 1008.02 67.2652 1006.68 Q69.5105 1004.16 70.3902 1002.42 Q71.2929 1000.66 71.2929 998.97 Q71.2929 996.216 69.3485 994.48 Q67.4272 992.743 64.3254 992.743 Q62.1263 992.743 59.6726 993.507 Q57.2421 994.271 54.4643 995.822 L54.4643 991.1 Q57.2884 989.966 59.7421 989.387 Q62.1958 988.808 64.2328 988.808 Q69.6031 988.808 72.7976 991.493 Q75.992 994.179 75.992 998.669 Q75.992 1000.8 75.1818 1002.72 Q74.3948 1004.62 72.2883 1007.21 Q71.7096 1007.88 68.6078 1011.1 Q65.5059 1014.29 59.8578 1020.06 Z\" fill=\"#000000\" fill-rule=\"evenodd\" fill-opacity=\"1\" /><path clip-path=\"url(#clip770)\" d=\"M69.0476 765.492 Q72.404 766.209 74.279 768.478 Q76.1772 770.746 76.1772 774.08 Q76.1772 779.195 72.6587 781.996 Q69.1402 784.797 62.6587 784.797 Q60.4828 784.797 58.168 784.357 Q55.8764 783.941 53.4227 783.084 L53.4227 778.57 Q55.3671 779.705 57.6819 780.283 Q59.9967 780.862 62.5198 780.862 Q66.918 780.862 69.2096 779.126 Q71.5244 777.39 71.5244 774.08 Q71.5244 771.024 69.3717 769.311 Q67.242 767.575 63.4226 767.575 L59.3949 767.575 L59.3949 763.733 L63.6078 763.733 Q67.0569 763.733 68.8855 762.367 Q70.7142 760.978 70.7142 758.385 Q70.7142 755.723 68.8161 754.311 Q66.9411 752.876 63.4226 752.876 Q61.5013 752.876 59.3023 753.293 Q57.1032 753.709 54.4643 754.589 L54.4643 750.422 Q57.1264 749.682 59.4412 749.311 Q61.7791 748.941 63.8393 748.941 Q69.1633 748.941 72.2652 751.372 Q75.367 753.779 75.367 757.899 Q75.367 760.77 73.7235 762.76 Q72.08 764.728 69.0476 765.492 Z\" fill=\"#000000\" fill-rule=\"evenodd\" fill-opacity=\"1\" /><path clip-path=\"url(#clip770)\" d=\"M66.5939 513.773 L54.7884 532.222 L66.5939 532.222 L66.5939 513.773 M65.367 509.699 L71.2466 509.699 L71.2466 532.222 L76.1772 532.222 L76.1772 536.111 L71.2466 536.111 L71.2466 544.259 L66.5939 544.259 L66.5939 536.111 L50.9921 536.111 L50.9921 531.597 L65.367 509.699 Z\" fill=\"#000000\" fill-rule=\"evenodd\" fill-opacity=\"1\" /><path clip-path=\"url(#clip770)\" d=\"M55.2745 269.831 L73.6309 269.831 L73.6309 273.767 L59.5569 273.767 L59.5569 282.239 Q60.5754 281.892 61.5939 281.729 Q62.6124 281.544 63.6309 281.544 Q69.418 281.544 72.7976 284.716 Q76.1772 287.887 76.1772 293.303 Q76.1772 298.882 72.705 301.984 Q69.2328 305.063 62.9134 305.063 Q60.7374 305.063 58.4689 304.692 Q56.2236 304.322 53.8162 303.581 L53.8162 298.882 Q55.8995 300.016 58.1217 300.572 Q60.3439 301.128 62.8208 301.128 Q66.8254 301.128 69.1633 299.021 Q71.5013 296.915 71.5013 293.303 Q71.5013 289.692 69.1633 287.586 Q66.8254 285.479 62.8208 285.479 Q60.9458 285.479 59.0708 285.896 Q57.2189 286.313 55.2745 287.192 L55.2745 269.831 Z\" fill=\"#000000\" fill-rule=\"evenodd\" fill-opacity=\"1\" /><path clip-path=\"url(#clip770)\" d=\"M64.6495 45.3807 Q61.5013 45.3807 59.6495 47.5334 Q57.8208 49.6862 57.8208 53.4362 Q57.8208 57.163 59.6495 59.3389 Q61.5013 61.4917 64.6495 61.4917 Q67.7976 61.4917 69.6263 59.3389 Q71.4781 57.163 71.4781 53.4362 Q71.4781 49.6862 69.6263 47.5334 Q67.7976 45.3807 64.6495 45.3807 M73.9318 30.728 L73.9318 34.9872 Q72.1726 34.1539 70.367 33.7141 Q68.5846 33.2743 66.8254 33.2743 Q62.1958 33.2743 59.7421 36.3992 Q57.3115 39.5242 56.9643 45.8436 Q58.33 43.8298 60.3902 42.765 Q62.4504 41.677 64.9272 41.677 Q70.1355 41.677 73.1448 44.8483 Q76.1772 47.9964 76.1772 53.4362 Q76.1772 58.7602 73.029 61.9778 Q69.8809 65.1954 64.6495 65.1954 Q58.6541 65.1954 55.4828 60.6121 Q52.3116 56.0056 52.3116 47.2788 Q52.3116 39.0844 56.2004 34.2233 Q60.0893 29.3391 66.6402 29.3391 Q68.3994 29.3391 70.1818 29.6863 Q71.9874 30.0335 73.9318 30.728 Z\" fill=\"#000000\" fill-rule=\"evenodd\" fill-opacity=\"1\" /><polyline clip-path=\"url(#clip772)\" style=\"stroke:#0000ff; stroke-linecap:butt; stroke-linejoin:round; stroke-width:8; stroke-opacity:0.8; fill:none\" points=\"\n  112.177,407.045 127.215,384.929 142.252,363.789 157.289,343.82 172.327,325.211 187.364,308.147 202.402,292.802 217.439,279.344 232.477,267.927 247.514,258.692 \n  262.552,251.768 277.589,247.268 292.626,245.289 307.664,245.91 322.701,249.194 337.739,255.182 352.776,263.899 367.814,275.349 382.851,289.517 397.889,306.368 \n  412.926,325.847 427.963,347.882 443.001,372.38 458.038,399.23 473.076,428.306 488.113,459.464 503.151,492.545 518.188,527.376 533.226,563.771 548.263,601.534 \n  563.3,640.459 578.338,680.331 593.375,720.93 608.413,762.03 623.45,803.403 638.488,844.819 653.525,886.051 668.562,926.871 683.6,967.059 698.637,1006.4 \n  713.675,1044.68 728.712,1081.71 743.75,1117.29 758.787,1151.26 773.825,1183.45 788.862,1213.71 803.899,1241.91 818.937,1267.93 833.974,1291.69 849.012,1313.1 \n  864.049,1332.1 879.087,1348.65 894.124,1362.73 909.162,1374.34 924.199,1383.49 939.236,1390.22 954.274,1394.58 969.311,1396.65 984.349,1396.51 999.386,1394.26 \n  1014.42,1390.03 1029.46,1383.94 1044.5,1376.14 1059.54,1366.78 1074.57,1356.03 1089.61,1344.06 1104.65,1331.05 1119.69,1317.17 1134.72,1302.62 1149.76,1287.58 \n  1164.8,1272.23 1179.84,1256.75 1194.87,1241.33 1209.91,1226.14 1224.95,1211.33 1239.99,1197.07 1255.02,1183.5 1270.06,1170.76 1285.1,1158.97 1300.14,1148.22 \n  1315.17,1138.63 1330.21,1130.25 1345.25,1123.16 1360.28,1117.39 1375.32,1112.97 1390.36,1109.91 1405.4,1108.2 1420.43,1107.81 1435.47,1108.71 1450.51,1110.82 \n  1465.55,1114.09 1480.58,1118.4 1495.62,1123.67 1510.66,1129.77 1525.7,1136.56 1540.73,1143.92 1555.77,1151.69 1570.81,1159.71 1585.85,1167.81 1600.88,1175.83 \n  1615.92,1183.59 1630.96,1190.92 1646,1197.64 1661.03,1203.59 1676.07,1208.59 1691.11,1212.48 1706.15,1215.11 1721.18,1216.32 1736.22,1215.98 1751.26,1213.97 \n  1766.3,1210.17 1781.33,1204.48 1796.37,1196.81 1811.41,1187.11 1826.45,1175.31 1841.48,1161.38 1856.52,1145.32 1871.56,1127.12 1886.6,1106.8 1901.63,1084.4 \n  1916.67,1059.99 1931.71,1033.63 1946.74,1005.43 1961.78,975.492 1976.82,943.951 1991.86,910.947 2006.89,876.64 2021.93,841.2 2036.97,804.812 2052.01,767.67 \n  2067.04,729.976 2082.08,691.942 2097.12,653.784 2112.16,615.722 2127.19,577.979 2142.23,540.778 2157.27,504.342 2172.31,468.89 2187.34,434.636 2202.38,401.788 \n  2217.42,370.545 2232.46,341.097 2247.49,313.623 2262.53,288.287 2277.57,265.242 2292.61,244.623 2307.64,226.55 2322.68,211.126 2337.72,198.434 2352.76,188.538 \n  \n  \"/>\n<polyline clip-path=\"url(#clip772)\" style=\"stroke:#008000; stroke-linecap:butt; stroke-linejoin:round; stroke-width:8; stroke-opacity:0.8; fill:none\" points=\"\n  112.177,407.045 127.215,414.614 142.252,422.182 157.289,429.751 172.327,437.32 187.364,444.888 202.402,452.457 217.439,460.026 232.477,467.594 247.514,475.163 \n  262.552,482.732 277.589,490.3 292.626,497.869 307.664,505.438 322.701,513.006 337.739,520.575 352.776,528.144 367.814,535.712 382.851,543.281 397.889,550.85 \n  412.926,558.418 427.963,565.987 443.001,573.556 458.038,581.124 473.076,588.693 488.113,596.262 503.151,603.83 518.188,611.399 533.226,618.968 548.263,626.536 \n  563.3,637.688 578.338,663.17 593.375,688.652 608.413,714.134 623.45,739.616 638.488,765.097 653.525,790.579 668.562,816.061 683.6,841.543 698.637,867.025 \n  713.675,892.507 728.712,917.989 743.75,943.471 758.787,968.953 773.825,994.435 788.862,1019.92 803.899,1045.4 818.937,1070.88 833.974,1096.36 849.012,1121.84 \n  864.049,1147.33 879.087,1172.81 894.124,1198.29 909.162,1223.77 924.199,1249.25 939.236,1274.74 954.274,1300.22 969.311,1325.7 984.349,1351.18 999.386,1376.66 \n  1014.42,1388.2 1029.46,1378.8 1044.5,1369.41 1059.54,1360.01 1074.57,1350.62 1089.61,1341.22 1104.65,1331.83 1119.69,1322.43 1134.72,1313.04 1149.76,1303.64 \n  1164.8,1294.25 1179.84,1284.86 1194.87,1275.46 1209.91,1266.07 1224.95,1256.67 1239.99,1247.28 1255.02,1237.88 1270.06,1228.49 1285.1,1219.09 1300.14,1209.7 \n  1315.17,1200.3 1330.21,1190.91 1345.25,1181.52 1360.28,1172.12 1375.32,1162.73 1390.36,1153.33 1405.4,1143.94 1420.43,1134.54 1435.47,1125.15 1450.51,1115.75 \n  1465.55,1111.34 1480.58,1110.26 1495.62,1109.18 1510.66,1108.09 1525.7,1107.01 1540.73,1105.92 1555.77,1104.84 1570.81,1103.75 1585.85,1102.67 1600.88,1101.58 \n  1615.92,1100.5 1630.96,1099.41 1646,1098.33 1661.03,1097.25 1676.07,1096.16 1691.11,1095.08 1706.15,1093.99 1721.18,1092.91 1736.22,1091.82 1751.26,1090.74 \n  1766.3,1089.65 1781.33,1088.57 1796.37,1087.48 1811.41,1086.4 1826.45,1085.32 1841.48,1084.23 1856.52,1083.15 1871.56,1082.06 1886.6,1080.98 1901.63,1079.89 \n  1916.67,1055.75 1931.71,1025.85 1946.74,995.945 1961.78,966.041 1976.82,936.137 1991.86,906.233 2006.89,876.329 2021.93,846.425 2036.97,816.521 2052.01,786.617 \n  2067.04,756.713 2082.08,726.809 2097.12,696.906 2112.16,667.002 2127.19,637.098 2142.23,607.194 2157.27,577.29 2172.31,547.386 2187.34,517.482 2202.38,487.578 \n  2217.42,457.674 2232.46,427.77 2247.49,397.866 2262.53,367.962 2277.57,338.058 2292.61,308.154 2307.64,278.25 2322.68,248.346 2337.72,218.442 2352.76,188.538 \n  \n  \"/>\n<polyline clip-path=\"url(#clip772)\" style=\"stroke:#3da44d; stroke-linecap:butt; stroke-linejoin:round; stroke-width:8; stroke-opacity:0.5; fill:none\" stroke-dasharray=\"32, 20\" points=\"\n  112.177,1486.45 112.177,407.045 \n  \"/>\n<polyline clip-path=\"url(#clip772)\" style=\"stroke:#3da44d; stroke-linecap:butt; stroke-linejoin:round; stroke-width:8; stroke-opacity:0.5; fill:none\" stroke-dasharray=\"32, 20\" points=\"\n  560.293,1486.45 560.293,632.591 \n  \"/>\n<polyline clip-path=\"url(#clip772)\" style=\"stroke:#3da44d; stroke-linecap:butt; stroke-linejoin:round; stroke-width:8; stroke-opacity:0.5; fill:none\" stroke-dasharray=\"32, 20\" points=\"\n  1008.41,1486.45 1008.41,1391.95 \n  \"/>\n<polyline clip-path=\"url(#clip772)\" style=\"stroke:#3da44d; stroke-linecap:butt; stroke-linejoin:round; stroke-width:8; stroke-opacity:0.5; fill:none\" stroke-dasharray=\"32, 20\" points=\"\n  1456.52,1486.45 1456.52,1112 \n  \"/>\n<polyline clip-path=\"url(#clip772)\" style=\"stroke:#3da44d; stroke-linecap:butt; stroke-linejoin:round; stroke-width:8; stroke-opacity:0.5; fill:none\" stroke-dasharray=\"32, 20\" points=\"\n  1904.64,1486.45 1904.64,1079.68 \n  \"/>\n<polyline clip-path=\"url(#clip772)\" style=\"stroke:#3da44d; stroke-linecap:butt; stroke-linejoin:round; stroke-width:8; stroke-opacity:0.5; fill:none\" stroke-dasharray=\"32, 20\" points=\"\n  2352.76,1486.45 2352.76,188.538 \n  \"/>\n<path clip-path=\"url(#clip770)\" d=\"\nM550.135 250.738 L1282.26 250.738 L1282.26 95.2176 L550.135 95.2176  Z\n  \" fill=\"#ffffff\" fill-rule=\"evenodd\" fill-opacity=\"1\"/>\n<polyline clip-path=\"url(#clip770)\" style=\"stroke:#000000; stroke-linecap:butt; stroke-linejoin:round; stroke-width:4; stroke-opacity:1; fill:none\" points=\"\n  550.135,250.738 1282.26,250.738 1282.26,95.2176 550.135,95.2176 550.135,250.738 \n  \"/>\n<polyline clip-path=\"url(#clip770)\" style=\"stroke:#0000ff; stroke-linecap:butt; stroke-linejoin:round; stroke-width:4; stroke-opacity:0.8; fill:none\" points=\"\n  575.031,147.058 724.403,147.058 \n  \"/>\n<path clip-path=\"url(#clip770)\" d=\"M756.705 131.051 L756.705 138.412 L765.478 138.412 L765.478 141.722 L756.705 141.722 L756.705 155.796 Q756.705 158.967 757.562 159.87 Q758.441 160.773 761.103 160.773 L765.478 160.773 L765.478 164.338 L761.103 164.338 Q756.173 164.338 754.298 162.509 Q752.423 160.657 752.423 155.796 L752.423 141.722 L749.298 141.722 L749.298 138.412 L752.423 138.412 L752.423 131.051 L756.705 131.051 Z\" fill=\"#000000\" fill-rule=\"evenodd\" fill-opacity=\"1\" /><path clip-path=\"url(#clip770)\" d=\"M786.103 142.393 Q785.386 141.977 784.529 141.791 Q783.696 141.583 782.677 141.583 Q779.066 141.583 777.122 143.944 Q775.2 146.282 775.2 150.68 L775.2 164.338 L770.918 164.338 L770.918 138.412 L775.2 138.412 L775.2 142.44 Q776.543 140.078 778.696 138.944 Q780.849 137.787 783.927 137.787 Q784.367 137.787 784.899 137.856 Q785.432 137.903 786.08 138.018 L786.103 142.393 Z\" fill=\"#000000\" fill-rule=\"evenodd\" fill-opacity=\"1\" /><path clip-path=\"url(#clip770)\" d=\"M790.131 154.106 L790.131 138.412 L794.39 138.412 L794.39 153.944 Q794.39 157.625 795.825 159.476 Q797.261 161.305 800.131 161.305 Q803.58 161.305 805.571 159.106 Q807.585 156.907 807.585 153.111 L807.585 138.412 L811.844 138.412 L811.844 164.338 L807.585 164.338 L807.585 160.356 Q806.034 162.717 803.973 163.875 Q801.936 165.009 799.228 165.009 Q794.761 165.009 792.446 162.231 Q790.131 159.453 790.131 154.106 M800.848 137.787 L800.848 137.787 Z\" fill=\"#000000\" fill-rule=\"evenodd\" fill-opacity=\"1\" /><path clip-path=\"url(#clip770)\" d=\"M842.793 150.31 L842.793 152.393 L823.209 152.393 Q823.487 156.791 825.848 159.106 Q828.233 161.398 832.469 161.398 Q834.922 161.398 837.214 160.796 Q839.529 160.194 841.797 158.99 L841.797 163.018 Q839.506 163.99 837.098 164.5 Q834.691 165.009 832.214 165.009 Q826.01 165.009 822.376 161.398 Q818.765 157.787 818.765 151.629 Q818.765 145.264 822.191 141.537 Q825.64 137.787 831.473 137.787 Q836.705 137.787 839.737 141.166 Q842.793 144.523 842.793 150.31 M838.533 149.06 Q838.487 145.565 836.566 143.481 Q834.668 141.398 831.52 141.398 Q827.955 141.398 825.802 143.412 Q823.672 145.426 823.348 149.083 L838.533 149.06 Z\" fill=\"#000000\" fill-rule=\"evenodd\" fill-opacity=\"1\" /><path clip-path=\"url(#clip770)\" d=\"M877.978 128.319 L877.978 131.861 L873.904 131.861 Q871.612 131.861 870.709 132.787 Q869.83 133.713 869.83 136.12 L869.83 138.412 L876.843 138.412 L876.843 141.722 L869.83 141.722 L869.83 164.338 L865.547 164.338 L865.547 141.722 L861.473 141.722 L861.473 138.412 L865.547 138.412 L865.547 136.606 Q865.547 132.278 867.561 130.31 Q869.575 128.319 873.95 128.319 L877.978 128.319 Z\" fill=\"#000000\" fill-rule=\"evenodd\" fill-opacity=\"1\" /><path clip-path=\"url(#clip770)\" d=\"M881.103 154.106 L881.103 138.412 L885.362 138.412 L885.362 153.944 Q885.362 157.625 886.797 159.476 Q888.232 161.305 891.103 161.305 Q894.552 161.305 896.542 159.106 Q898.556 156.907 898.556 153.111 L898.556 138.412 L902.816 138.412 L902.816 164.338 L898.556 164.338 L898.556 160.356 Q897.005 162.717 894.945 163.875 Q892.908 165.009 890.2 165.009 Q885.732 165.009 883.417 162.231 Q881.103 159.453 881.103 154.106 M891.82 137.787 L891.82 137.787 Z\" fill=\"#000000\" fill-rule=\"evenodd\" fill-opacity=\"1\" /><path clip-path=\"url(#clip770)\" d=\"M933.139 148.689 L933.139 164.338 L928.88 164.338 L928.88 148.828 Q928.88 145.148 927.445 143.319 Q926.01 141.49 923.139 141.49 Q919.69 141.49 917.7 143.69 Q915.709 145.889 915.709 149.685 L915.709 164.338 L911.427 164.338 L911.427 138.412 L915.709 138.412 L915.709 142.44 Q917.237 140.102 919.297 138.944 Q921.38 137.787 924.089 137.787 Q928.556 137.787 930.848 140.565 Q933.139 143.319 933.139 148.689 Z\" fill=\"#000000\" fill-rule=\"evenodd\" fill-opacity=\"1\" /><path clip-path=\"url(#clip770)\" d=\"M960.292 139.407 L960.292 143.389 Q958.487 142.393 956.658 141.907 Q954.852 141.398 953 141.398 Q948.857 141.398 946.565 144.037 Q944.274 146.652 944.274 151.398 Q944.274 156.143 946.565 158.782 Q948.857 161.398 953 161.398 Q954.852 161.398 956.658 160.912 Q958.487 160.402 960.292 159.407 L960.292 163.342 Q958.51 164.176 956.588 164.592 Q954.69 165.009 952.537 165.009 Q946.681 165.009 943.232 161.328 Q939.783 157.648 939.783 151.398 Q939.783 145.055 943.255 141.421 Q946.75 137.787 952.815 137.787 Q954.783 137.787 956.658 138.203 Q958.533 138.597 960.292 139.407 Z\" fill=\"#000000\" fill-rule=\"evenodd\" fill-opacity=\"1\" /><path clip-path=\"url(#clip770)\" d=\"M971.912 131.051 L971.912 138.412 L980.685 138.412 L980.685 141.722 L971.912 141.722 L971.912 155.796 Q971.912 158.967 972.769 159.87 Q973.648 160.773 976.311 160.773 L980.685 160.773 L980.685 164.338 L976.311 164.338 Q971.38 164.338 969.505 162.509 Q967.63 160.657 967.63 155.796 L967.63 141.722 L964.505 141.722 L964.505 138.412 L967.63 138.412 L967.63 131.051 L971.912 131.051 Z\" fill=\"#000000\" fill-rule=\"evenodd\" fill-opacity=\"1\" /><path clip-path=\"url(#clip770)\" d=\"M986.287 138.412 L990.547 138.412 L990.547 164.338 L986.287 164.338 L986.287 138.412 M986.287 128.319 L990.547 128.319 L990.547 133.713 L986.287 133.713 L986.287 128.319 Z\" fill=\"#000000\" fill-rule=\"evenodd\" fill-opacity=\"1\" /><path clip-path=\"url(#clip770)\" d=\"M1009.5 141.398 Q1006.08 141.398 1004.09 144.083 Q1002.1 146.745 1002.1 151.398 Q1002.1 156.051 1004.06 158.736 Q1006.06 161.398 1009.5 161.398 Q1012.91 161.398 1014.9 158.713 Q1016.89 156.027 1016.89 151.398 Q1016.89 146.791 1014.9 144.106 Q1012.91 141.398 1009.5 141.398 M1009.5 137.787 Q1015.06 137.787 1018.23 141.398 Q1021.4 145.009 1021.4 151.398 Q1021.4 157.764 1018.23 161.398 Q1015.06 165.009 1009.5 165.009 Q1003.93 165.009 1000.75 161.398 Q997.607 157.764 997.607 151.398 Q997.607 145.009 1000.75 141.398 Q1003.93 137.787 1009.5 137.787 Z\" fill=\"#000000\" fill-rule=\"evenodd\" fill-opacity=\"1\" /><path clip-path=\"url(#clip770)\" d=\"M1050.01 148.689 L1050.01 164.338 L1045.75 164.338 L1045.75 148.828 Q1045.75 145.148 1044.32 143.319 Q1042.88 141.49 1040.01 141.49 Q1036.56 141.49 1034.57 143.69 Q1032.58 145.889 1032.58 149.685 L1032.58 164.338 L1028.3 164.338 L1028.3 138.412 L1032.58 138.412 L1032.58 142.44 Q1034.11 140.102 1036.17 138.944 Q1038.25 137.787 1040.96 137.787 Q1045.43 137.787 1047.72 140.565 Q1050.01 143.319 1050.01 148.689 Z\" fill=\"#000000\" fill-rule=\"evenodd\" fill-opacity=\"1\" /><polyline clip-path=\"url(#clip770)\" style=\"stroke:#008000; stroke-linecap:butt; stroke-linejoin:round; stroke-width:4; stroke-opacity:0.8; fill:none\" points=\"\n  575.031,198.898 724.403,198.898 \n  \"/>\n<path clip-path=\"url(#clip770)\" d=\"M749.298 180.159 L753.557 180.159 L753.557 216.178 L749.298 216.178 L749.298 180.159 Z\" fill=\"#000000\" fill-rule=\"evenodd\" fill-opacity=\"1\" /><path clip-path=\"url(#clip770)\" d=\"M762.469 190.252 L766.728 190.252 L766.728 216.178 L762.469 216.178 L762.469 190.252 M762.469 180.159 L766.728 180.159 L766.728 185.553 L762.469 185.553 L762.469 180.159 Z\" fill=\"#000000\" fill-rule=\"evenodd\" fill-opacity=\"1\" /><path clip-path=\"url(#clip770)\" d=\"M797.191 200.529 L797.191 216.178 L792.932 216.178 L792.932 200.668 Q792.932 196.988 791.497 195.159 Q790.062 193.33 787.191 193.33 Q783.742 193.33 781.751 195.53 Q779.761 197.729 779.761 201.525 L779.761 216.178 L775.478 216.178 L775.478 190.252 L779.761 190.252 L779.761 194.28 Q781.288 191.942 783.349 190.784 Q785.432 189.627 788.14 189.627 Q792.608 189.627 794.899 192.405 Q797.191 195.159 797.191 200.529 Z\" fill=\"#000000\" fill-rule=\"evenodd\" fill-opacity=\"1\" /><path clip-path=\"url(#clip770)\" d=\"M827.862 202.15 L827.862 204.233 L808.279 204.233 Q808.557 208.631 810.918 210.946 Q813.302 213.238 817.538 213.238 Q819.992 213.238 822.284 212.636 Q824.598 212.034 826.867 210.83 L826.867 214.858 Q824.575 215.83 822.168 216.34 Q819.76 216.849 817.284 216.849 Q811.08 216.849 807.446 213.238 Q803.835 209.627 803.835 203.469 Q803.835 197.104 807.26 193.377 Q810.71 189.627 816.543 189.627 Q821.774 189.627 824.807 193.006 Q827.862 196.363 827.862 202.15 M823.603 200.9 Q823.557 197.405 821.635 195.321 Q819.737 193.238 816.589 193.238 Q813.024 193.238 810.872 195.252 Q808.742 197.266 808.418 200.923 L823.603 200.9 Z\" fill=\"#000000\" fill-rule=\"evenodd\" fill-opacity=\"1\" /><path clip-path=\"url(#clip770)\" d=\"M846.635 203.145 Q841.473 203.145 839.483 204.326 Q837.492 205.506 837.492 208.354 Q837.492 210.622 838.973 211.965 Q840.478 213.284 843.047 213.284 Q846.589 213.284 848.719 210.784 Q850.871 208.261 850.871 204.094 L850.871 203.145 L846.635 203.145 M855.131 201.386 L855.131 216.178 L850.871 216.178 L850.871 212.242 Q849.413 214.603 847.237 215.738 Q845.061 216.849 841.913 216.849 Q837.932 216.849 835.571 214.627 Q833.233 212.381 833.233 208.631 Q833.233 204.256 836.149 202.034 Q839.089 199.812 844.899 199.812 L850.871 199.812 L850.871 199.395 Q850.871 196.455 848.927 194.858 Q847.006 193.238 843.51 193.238 Q841.288 193.238 839.182 193.77 Q837.075 194.303 835.131 195.367 L835.131 191.432 Q837.469 190.53 839.668 190.09 Q841.867 189.627 843.95 189.627 Q849.575 189.627 852.353 192.543 Q855.131 195.46 855.131 201.386 Z\" fill=\"#000000\" fill-rule=\"evenodd\" fill-opacity=\"1\" /><path clip-path=\"url(#clip770)\" d=\"M878.927 194.233 Q878.209 193.817 877.353 193.631 Q876.519 193.423 875.501 193.423 Q871.89 193.423 869.945 195.784 Q868.024 198.122 868.024 202.52 L868.024 216.178 L863.742 216.178 L863.742 190.252 L868.024 190.252 L868.024 194.28 Q869.367 191.918 871.519 190.784 Q873.672 189.627 876.751 189.627 Q877.191 189.627 877.723 189.696 Q878.255 189.743 878.904 189.858 L878.927 194.233 Z\" fill=\"#000000\" fill-rule=\"evenodd\" fill-opacity=\"1\" /><path clip-path=\"url(#clip770)\" d=\"M910.246 203.145 Q905.084 203.145 903.093 204.326 Q901.103 205.506 901.103 208.354 Q901.103 210.622 902.584 211.965 Q904.089 213.284 906.658 213.284 Q910.2 213.284 912.329 210.784 Q914.482 208.261 914.482 204.094 L914.482 203.145 L910.246 203.145 M918.741 201.386 L918.741 216.178 L914.482 216.178 L914.482 212.242 Q913.024 214.603 910.848 215.738 Q908.672 216.849 905.524 216.849 Q901.542 216.849 899.181 214.627 Q896.843 212.381 896.843 208.631 Q896.843 204.256 899.76 202.034 Q902.7 199.812 908.51 199.812 L914.482 199.812 L914.482 199.395 Q914.482 196.455 912.538 194.858 Q910.616 193.238 907.121 193.238 Q904.899 193.238 902.792 193.77 Q900.686 194.303 898.741 195.367 L898.741 191.432 Q901.079 190.53 903.278 190.09 Q905.478 189.627 907.561 189.627 Q913.186 189.627 915.964 192.543 Q918.741 195.46 918.741 201.386 Z\" fill=\"#000000\" fill-rule=\"evenodd\" fill-opacity=\"1\" /><path clip-path=\"url(#clip770)\" d=\"M931.635 212.289 L931.635 226.039 L927.352 226.039 L927.352 190.252 L931.635 190.252 L931.635 194.187 Q932.977 191.872 935.014 190.761 Q937.075 189.627 939.922 189.627 Q944.644 189.627 947.584 193.377 Q950.547 197.127 950.547 203.238 Q950.547 209.349 947.584 213.099 Q944.644 216.849 939.922 216.849 Q937.075 216.849 935.014 215.738 Q932.977 214.603 931.635 212.289 M946.125 203.238 Q946.125 198.539 944.181 195.877 Q942.26 193.192 938.88 193.192 Q935.501 193.192 933.556 195.877 Q931.635 198.539 931.635 203.238 Q931.635 207.937 933.556 210.622 Q935.501 213.284 938.88 213.284 Q942.26 213.284 944.181 210.622 Q946.125 207.937 946.125 203.238 Z\" fill=\"#000000\" fill-rule=\"evenodd\" fill-opacity=\"1\" /><path clip-path=\"url(#clip770)\" d=\"M961.727 212.289 L961.727 226.039 L957.445 226.039 L957.445 190.252 L961.727 190.252 L961.727 194.187 Q963.07 191.872 965.107 190.761 Q967.167 189.627 970.014 189.627 Q974.736 189.627 977.676 193.377 Q980.639 197.127 980.639 203.238 Q980.639 209.349 977.676 213.099 Q974.736 216.849 970.014 216.849 Q967.167 216.849 965.107 215.738 Q963.07 214.603 961.727 212.289 M976.218 203.238 Q976.218 198.539 974.273 195.877 Q972.352 193.192 968.973 193.192 Q965.593 193.192 963.649 195.877 Q961.727 198.539 961.727 203.238 Q961.727 207.937 963.649 210.622 Q965.593 213.284 968.973 213.284 Q972.352 213.284 974.273 210.622 Q976.218 207.937 976.218 203.238 Z\" fill=\"#000000\" fill-rule=\"evenodd\" fill-opacity=\"1\" /><path clip-path=\"url(#clip770)\" d=\"M1002.72 194.233 Q1002 193.817 1001.15 193.631 Q1000.32 193.423 999.296 193.423 Q995.685 193.423 993.741 195.784 Q991.82 198.122 991.82 202.52 L991.82 216.178 L987.537 216.178 L987.537 190.252 L991.82 190.252 L991.82 194.28 Q993.162 191.918 995.315 190.784 Q997.468 189.627 1000.55 189.627 Q1000.99 189.627 1001.52 189.696 Q1002.05 189.743 1002.7 189.858 L1002.72 194.233 Z\" fill=\"#000000\" fill-rule=\"evenodd\" fill-opacity=\"1\" /><path clip-path=\"url(#clip770)\" d=\"M1016.19 193.238 Q1012.77 193.238 1010.78 195.923 Q1008.79 198.585 1008.79 203.238 Q1008.79 207.891 1010.75 210.576 Q1012.75 213.238 1016.19 213.238 Q1019.6 213.238 1021.59 210.553 Q1023.58 207.867 1023.58 203.238 Q1023.58 198.631 1021.59 195.946 Q1019.6 193.238 1016.19 193.238 M1016.19 189.627 Q1021.75 189.627 1024.92 193.238 Q1028.09 196.849 1028.09 203.238 Q1028.09 209.604 1024.92 213.238 Q1021.75 216.849 1016.19 216.849 Q1010.62 216.849 1007.44 213.238 Q1004.3 209.604 1004.3 203.238 Q1004.3 196.849 1007.44 193.238 Q1010.62 189.627 1016.19 189.627 Z\" fill=\"#000000\" fill-rule=\"evenodd\" fill-opacity=\"1\" /><path clip-path=\"url(#clip770)\" d=\"M1055.25 190.252 L1045.87 202.867 L1055.73 216.178 L1050.71 216.178 L1043.16 205.992 L1035.62 216.178 L1030.59 216.178 L1040.66 202.613 L1031.45 190.252 L1036.47 190.252 L1043.35 199.488 L1050.22 190.252 L1055.25 190.252 Z\" fill=\"#000000\" fill-rule=\"evenodd\" fill-opacity=\"1\" /><path clip-path=\"url(#clip770)\" d=\"M1061.75 190.252 L1066.01 190.252 L1066.01 216.178 L1061.75 216.178 L1061.75 190.252 M1061.75 180.159 L1066.01 180.159 L1066.01 185.553 L1061.75 185.553 L1061.75 180.159 Z\" fill=\"#000000\" fill-rule=\"evenodd\" fill-opacity=\"1\" /><path clip-path=\"url(#clip770)\" d=\"M1095.11 195.229 Q1096.7 192.358 1098.93 190.993 Q1101.15 189.627 1104.16 189.627 Q1108.21 189.627 1110.41 192.474 Q1112.61 195.298 1112.61 200.529 L1112.61 216.178 L1108.32 216.178 L1108.32 200.668 Q1108.32 196.942 1107 195.136 Q1105.68 193.33 1102.98 193.33 Q1099.67 193.33 1097.75 195.53 Q1095.82 197.729 1095.82 201.525 L1095.82 216.178 L1091.54 216.178 L1091.54 200.668 Q1091.54 196.918 1090.22 195.136 Q1088.9 193.33 1086.15 193.33 Q1082.88 193.33 1080.96 195.553 Q1079.04 197.752 1079.04 201.525 L1079.04 216.178 L1074.76 216.178 L1074.76 190.252 L1079.04 190.252 L1079.04 194.28 Q1080.5 191.895 1082.54 190.761 Q1084.57 189.627 1087.37 189.627 Q1090.2 189.627 1092.17 191.062 Q1094.16 192.497 1095.11 195.229 Z\" fill=\"#000000\" fill-rule=\"evenodd\" fill-opacity=\"1\" /><path clip-path=\"url(#clip770)\" d=\"M1132.88 203.145 Q1127.72 203.145 1125.73 204.326 Q1123.74 205.506 1123.74 208.354 Q1123.74 210.622 1125.22 211.965 Q1126.73 213.284 1129.3 213.284 Q1132.84 213.284 1134.97 210.784 Q1137.12 208.261 1137.12 204.094 L1137.12 203.145 L1132.88 203.145 M1141.38 201.386 L1141.38 216.178 L1137.12 216.178 L1137.12 212.242 Q1135.66 214.603 1133.49 215.738 Q1131.31 216.849 1128.16 216.849 Q1124.18 216.849 1121.82 214.627 Q1119.48 212.381 1119.48 208.631 Q1119.48 204.256 1122.4 202.034 Q1125.34 199.812 1131.15 199.812 L1137.12 199.812 L1137.12 199.395 Q1137.12 196.455 1135.18 194.858 Q1133.25 193.238 1129.76 193.238 Q1127.54 193.238 1125.43 193.77 Q1123.32 194.303 1121.38 195.367 L1121.38 191.432 Q1123.72 190.53 1125.92 190.09 Q1128.12 189.627 1130.2 189.627 Q1135.82 189.627 1138.6 192.543 Q1141.38 195.46 1141.38 201.386 Z\" fill=\"#000000\" fill-rule=\"evenodd\" fill-opacity=\"1\" /><path clip-path=\"url(#clip770)\" d=\"M1154.37 182.891 L1154.37 190.252 L1163.14 190.252 L1163.14 193.562 L1154.37 193.562 L1154.37 207.636 Q1154.37 210.807 1155.22 211.71 Q1156.1 212.613 1158.76 212.613 L1163.14 212.613 L1163.14 216.178 L1158.76 216.178 Q1153.83 216.178 1151.96 214.349 Q1150.08 212.497 1150.08 207.636 L1150.08 193.562 L1146.96 193.562 L1146.96 190.252 L1150.08 190.252 L1150.08 182.891 L1154.37 182.891 Z\" fill=\"#000000\" fill-rule=\"evenodd\" fill-opacity=\"1\" /><path clip-path=\"url(#clip770)\" d=\"M1168.74 190.252 L1173 190.252 L1173 216.178 L1168.74 216.178 L1168.74 190.252 M1168.74 180.159 L1173 180.159 L1173 185.553 L1168.74 185.553 L1168.74 180.159 Z\" fill=\"#000000\" fill-rule=\"evenodd\" fill-opacity=\"1\" /><path clip-path=\"url(#clip770)\" d=\"M1191.96 193.238 Q1188.53 193.238 1186.54 195.923 Q1184.55 198.585 1184.55 203.238 Q1184.55 207.891 1186.52 210.576 Q1188.51 213.238 1191.96 213.238 Q1195.36 213.238 1197.35 210.553 Q1199.34 207.867 1199.34 203.238 Q1199.34 198.631 1197.35 195.946 Q1195.36 193.238 1191.96 193.238 M1191.96 189.627 Q1197.51 189.627 1200.68 193.238 Q1203.86 196.849 1203.86 203.238 Q1203.86 209.604 1200.68 213.238 Q1197.51 216.849 1191.96 216.849 Q1186.38 216.849 1183.21 213.238 Q1180.06 209.604 1180.06 203.238 Q1180.06 196.849 1183.21 193.238 Q1186.38 189.627 1191.96 189.627 Z\" fill=\"#000000\" fill-rule=\"evenodd\" fill-opacity=\"1\" /><path clip-path=\"url(#clip770)\" d=\"M1232.47 200.529 L1232.47 216.178 L1228.21 216.178 L1228.21 200.668 Q1228.21 196.988 1226.77 195.159 Q1225.34 193.33 1222.47 193.33 Q1219.02 193.33 1217.03 195.53 Q1215.04 197.729 1215.04 201.525 L1215.04 216.178 L1210.75 216.178 L1210.75 190.252 L1215.04 190.252 L1215.04 194.28 Q1216.56 191.942 1218.62 190.784 Q1220.71 189.627 1223.42 189.627 Q1227.88 189.627 1230.17 192.405 Q1232.47 195.159 1232.47 200.529 Z\" fill=\"#000000\" fill-rule=\"evenodd\" fill-opacity=\"1\" /></svg>\n"
     },
     "execution_count": 4,
     "metadata": {},
     "output_type": "execute_result"
    }
   ],
   "source": [
    "f(x) = 2 .* cos.(6x) .+ sin.(14x) .+ 2.5\n",
    "c_grid = 0:.2:1\n",
    "f_grid = range(0,  1, length = 150)\n",
    "                                                                                                                 \n",
    "Af = LinearInterpolation(c_grid, f(c_grid))\n",
    "\n",
    "plt = plot(xlim = (0,1), ylim = (0,6))\n",
    "plot!(plt, f, f_grid, color = :blue, lw = 2, alpha = 0.8, label = \"true function\")\n",
    "plot!(plt, f_grid, Af.(f_grid), color = :green, lw = 2, alpha = 0.8,\n",
    "      label = \"linear approximation\")\n",
    "plot!(plt, f, c_grid, seriestype = :sticks, linestyle = :dash, linewidth = 2, alpha = 0.5,\n",
    "      label = \"\")\n",
    "plot!(plt, legend = :top)"
   ]
  },
  {
   "cell_type": "markdown",
   "id": "12837903",
   "metadata": {},
   "source": [
    "Another advantage of piecewise linear interpolation is that it preserves useful shape properties such as monotonicity and concavity / convexity."
   ]
  },
  {
   "cell_type": "markdown",
   "id": "50d72f6e",
   "metadata": {},
   "source": [
    "### The Bellman Operator\n",
    "\n",
    "Here’s a function that implements the Bellman operator using linear interpolation"
   ]
  },
  {
   "cell_type": "code",
   "execution_count": null,
   "id": "26c4a9fd",
   "metadata": {
    "hide-output": false
   },
   "outputs": [],
   "source": [
    "using Optim\n",
    "\n",
    "function T(w, grid, β, u, f, shocks; compute_policy = false)\n",
    "    w_func = LinearInterpolation(grid, w)\n",
    "    # objective for each grid point\n",
    "    objectives = (c -> u(c) + β * mean(w_func.(f(y - c) .* shocks)) for y in grid)\n",
    "    results = maximize.(objectives, 1e-10, grid) # solver result for each grid point\n",
    "\n",
    "    Tw = Optim.maximum.(results)\n",
    "    if compute_policy\n",
    "        σ = Optim.maximizer.(results)\n",
    "        return Tw, σ\n",
    "    end\n",
    "\n",
    "    return Tw\n",
    "end"
   ]
  },
  {
   "cell_type": "markdown",
   "id": "a9249e38",
   "metadata": {},
   "source": [
    "Notice that the expectation in [(31.11)](#equation-fcbell20-optgrowth) is computed via Monte Carlo, using the approximation\n",
    "\n",
    "$$\n",
    "\\int w(f(y - c) z) \\phi(dz) \\approx \\frac{1}{n} \\sum_{i=1}^n w(f(y - c) \\xi_i)\n",
    "$$\n",
    "\n",
    "where $ \\{\\xi_i\\}_{i=1}^n $ are IID draws from $ \\phi $.\n",
    "\n",
    "Monte Carlo is not always the most efficient way to compute integrals numerically but it does have some theoretical advantages in the present setting.\n",
    "\n",
    "(For example, it preserves the contraction mapping property of the Bellman operator — see, e.g., [[PalS13](https://julia.quantecon.org/../zreferences.html#id46)])\n",
    "\n",
    "\n",
    "<a id='benchmark-growth-mod'></a>"
   ]
  },
  {
   "cell_type": "markdown",
   "id": "e7137b33",
   "metadata": {},
   "source": [
    "### An Example\n",
    "\n",
    "Let’s test out our operator when\n",
    "\n",
    "- $ f(k) = k^{\\alpha} $  \n",
    "- $ u(c) = \\ln c $  \n",
    "- $ \\phi $ is the distribution of $ \\exp(\\mu + \\sigma \\zeta) $ when $ \\zeta $ is standard normal  \n",
    "\n",
    "\n",
    "As is well-known (see [[LS18](https://julia.quantecon.org/../zreferences.html#id99)], section 3.1.2), for this particular problem an exact analytical solution is available, with\n",
    "\n",
    "\n",
    "<a id='equation-dpi-tv'></a>\n",
    "$$\n",
    "v^*(y) =\n",
    "\\frac{\\ln (1 - \\alpha \\beta) }{ 1 - \\beta}\n",
    "+\n",
    "\\frac{(\\mu + \\alpha \\ln (\\alpha \\beta))}{1 - \\alpha}\n",
    " \\left[\n",
    "     \\frac{1}{1- \\beta} - \\frac{1}{1 - \\alpha \\beta}\n",
    " \\right]\n",
    " +\n",
    " \\frac{1}{1 - \\alpha \\beta} \\ln y \\tag{31.12}\n",
    "$$\n",
    "\n",
    "The optimal consumption policy is\n",
    "\n",
    "$$\n",
    "\\sigma^*(y) = (1 - \\alpha \\beta ) y\n",
    "$$\n",
    "\n",
    "Let’s code this up now so we can test against it below"
   ]
  },
  {
   "cell_type": "code",
   "execution_count": null,
   "id": "0412261a",
   "metadata": {
    "hide-output": false
   },
   "outputs": [],
   "source": [
    "α = 0.4\n",
    "β = 0.96\n",
    "μ = 0\n",
    "s = 0.1\n",
    "\n",
    "c1 = log(1 - α * β) / (1 - β)\n",
    "c2 = (μ + α * log(α * β)) / (1 - α)\n",
    "c3 = 1 / (1 - β)\n",
    "c4 = 1 / (1 - α * β)\n",
    "\n",
    "# Utility\n",
    "u(c) = log(c)\n",
    "\n",
    "∂u∂c(c) = 1 / c\n",
    "\n",
    "# Deterministic part of production function\n",
    "f(k) = k^α\n",
    "\n",
    "f′(k) = α * k^(α - 1)\n",
    "\n",
    "# True optimal policy\n",
    "c_star(y) = (1 - α * β) * y\n",
    "\n",
    "# True value function\n",
    "v_star(y) = c1 + c2 * (c3 - c4) + c4 * log(y)"
   ]
  },
  {
   "cell_type": "markdown",
   "id": "6ceb2e3d",
   "metadata": {},
   "source": [
    "### A First Test\n",
    "\n",
    "To test our code, we want to see if we can replicate the analytical solution numerically, using fitted value function iteration.\n",
    "\n",
    "We need a grid and some shock draws for Monte Carlo integration."
   ]
  },
  {
   "cell_type": "code",
   "execution_count": null,
   "id": "fa84a683",
   "metadata": {
    "hide-output": false
   },
   "outputs": [],
   "source": [
    "using Random\n",
    "Random.seed!(42) # For reproducible results.\n",
    "\n",
    "grid_max = 4         # Largest grid point\n",
    "grid_size = 200      # Number of grid points\n",
    "shock_size = 250     # Number of shock draws in Monte Carlo integral\n",
    "\n",
    "grid_y = range(1e-5,  grid_max, length = grid_size)\n",
    "shocks = exp.(μ .+ s * randn(shock_size))"
   ]
  },
  {
   "cell_type": "markdown",
   "id": "c6cb8149",
   "metadata": {},
   "source": [
    "Now let’s do some tests.\n",
    "\n",
    "As one preliminary test, let’s see what happens when we apply our Bellman operator to the exact solution $ v^* $.\n",
    "\n",
    "In theory, the resulting function should again be $ v^* $.\n",
    "\n",
    "In practice we expect some small numerical error."
   ]
  },
  {
   "cell_type": "code",
   "execution_count": null,
   "id": "edf06a7b",
   "metadata": {
    "hide-output": false
   },
   "outputs": [],
   "source": [
    "w = T(v_star.(grid_y), grid_y, β, log, k -> k^α, shocks)\n",
    "\n",
    "plt = plot(ylim = (-35,-24))\n",
    "plot!(plt, grid_y, w, linewidth = 2, alpha = 0.6, label = \"T(v_star)\")\n",
    "plot!(plt, v_star, grid_y, linewidth = 2, alpha=0.6, label = \"v_star\")\n",
    "plot!(plt, legend = :bottomright)"
   ]
  },
  {
   "cell_type": "markdown",
   "id": "04afd5b4",
   "metadata": {},
   "source": [
    "The two functions are essentially indistinguishable, so we are off to a good start.\n",
    "\n",
    "Now let’s have a look at iterating with the Bellman operator, starting off\n",
    "from an arbitrary initial condition.\n",
    "\n",
    "The initial condition we’ll start with is $ w(y) = 5 \\ln (y) $"
   ]
  },
  {
   "cell_type": "code",
   "execution_count": null,
   "id": "8228f34c",
   "metadata": {
    "hide-output": false
   },
   "outputs": [],
   "source": [
    "w = 5 * log.(grid_y)  # An initial condition -- fairly arbitrary\n",
    "n = 35\n",
    "\n",
    "plot(xlim = (extrema(grid_y)), ylim = (-50, 10))\n",
    "lb = \"initial condition\"\n",
    "plt = plot(grid_y, w, color = :black, linewidth = 2, alpha = 0.8, label = lb)\n",
    "for i in 1:n\n",
    "    w = T(w, grid_y, β, log, k -> k^α, shocks)\n",
    "    plot!(grid_y, w, color = RGBA(i/n, 0, 1 - i/n, 0.8), linewidth = 2, alpha = 0.6,\n",
    "          label = \"\")\n",
    "end\n",
    "\n",
    "lb = \"true value function\"\n",
    "plot!(plt, v_star, grid_y, color = :black, linewidth = 2, alpha = 0.8, label = lb)\n",
    "plot!(plt, legend = :bottomright)"
   ]
  },
  {
   "cell_type": "markdown",
   "id": "4fe4f162",
   "metadata": {},
   "source": [
    "The figure shows\n",
    "\n",
    "1. the first 36 functions generated by the fitted value function iteration algorithm, with hotter colors given to higher iterates  \n",
    "1. the true value function $ v^* $ drawn in black  \n",
    "\n",
    "\n",
    "The sequence of iterates converges towards $ v^* $.\n",
    "\n",
    "We are clearly getting closer.\n",
    "\n",
    "We can write a function that computes the exact fixed point"
   ]
  },
  {
   "cell_type": "code",
   "execution_count": null,
   "id": "ad05f70b",
   "metadata": {
    "hide-output": false
   },
   "outputs": [],
   "source": [
    "function solve_optgrowth(initial_w; tol = 1e-6, max_iter = 500)\n",
    "    fixedpoint(w -> T(w, grid_y, β, u, f, shocks), initial_w).zero # gets returned\n",
    "end"
   ]
  },
  {
   "cell_type": "markdown",
   "id": "8109f95e",
   "metadata": {},
   "source": [
    "We can check our result by plotting it against the true value"
   ]
  },
  {
   "cell_type": "code",
   "execution_count": null,
   "id": "921cf9cf",
   "metadata": {
    "hide-output": false
   },
   "outputs": [],
   "source": [
    "initial_w = 5 * log.(grid_y)\n",
    "v_star_approx = solve_optgrowth(initial_w)\n",
    "\n",
    "plt = plot(ylim = (-35, -24))\n",
    "plot!(plt, grid_y, v_star_approx, linewidth = 2, alpha = 0.6,\n",
    "      label = \"approximate value function\")\n",
    "plot!(plt, v_star, grid_y, linewidth = 2, alpha = 0.6, label = \"true value function\")\n",
    "plot!(plt, legend = :bottomright)"
   ]
  },
  {
   "cell_type": "markdown",
   "id": "c8cce1e0",
   "metadata": {},
   "source": [
    "The figure shows that we are pretty much on the money."
   ]
  },
  {
   "cell_type": "markdown",
   "id": "13107b3e",
   "metadata": {},
   "source": [
    "### The Policy Function\n",
    "\n",
    "\n",
    "<a id='index-8'></a>\n",
    "To compute an approximate optimal policy, we take the approximate value\n",
    "function we just calculated and then compute the corresponding greedy policy.\n",
    "\n",
    "The next figure compares the result to the exact solution, which, as mentioned\n",
    "above, is $ \\sigma(y) = (1 - \\alpha \\beta) y $."
   ]
  },
  {
   "cell_type": "code",
   "execution_count": null,
   "id": "72c89e24",
   "metadata": {
    "hide-output": false
   },
   "outputs": [],
   "source": [
    "Tw, σ = T(v_star_approx, grid_y, β, log, k -> k^α, shocks;\n",
    "                         compute_policy = true)\n",
    "cstar = (1 - α * β) * grid_y\n",
    "\n",
    "plt = plot(grid_y, σ, lw=2, alpha=0.6, label = \"approximate policy function\")\n",
    "plot!(plt, grid_y, cstar, lw = 2, alpha = 0.6, label = \"true policy function\")\n",
    "plot!(plt, legend = :bottomright)"
   ]
  },
  {
   "cell_type": "markdown",
   "id": "56cc4ceb",
   "metadata": {},
   "source": [
    "The figure shows that we’ve done a good job in this instance of approximating\n",
    "the true policy."
   ]
  },
  {
   "cell_type": "markdown",
   "id": "1b459f4d",
   "metadata": {},
   "source": [
    "## Exercises"
   ]
  },
  {
   "cell_type": "markdown",
   "id": "30a80f91",
   "metadata": {},
   "source": [
    "### Exercise 1\n",
    "\n",
    "Once an optimal consumption policy $ \\sigma $ is given, income follows [(31.5)](#equation-firstp0-og2).\n",
    "\n",
    "The next figure shows a simulation of 100 elements of this sequence for three different discount factors (and hence three different policies).\n",
    "\n",
    "![https://julia.quantecon.org/_static/figures/solution_og_ex2.png](https://julia.quantecon.org/_static/figures/solution_og_ex2.png)\n",
    "\n",
    "  \n",
    "In each sequence, the initial condition is $ y_0 = 0.1 $.\n",
    "\n",
    "The discount factors are `discount_factors = (0.8, 0.9, 0.98)`.\n",
    "\n",
    "We have also dialed down the shocks a bit."
   ]
  },
  {
   "cell_type": "code",
   "execution_count": null,
   "id": "6eb421ce",
   "metadata": {
    "hide-output": false
   },
   "outputs": [],
   "source": [
    "s = 0.05\n",
    "shocks = exp.(μ .+ s * randn(shock_size))"
   ]
  },
  {
   "cell_type": "markdown",
   "id": "65bba6ef",
   "metadata": {},
   "source": [
    "Otherwise, the parameters and primitives are the same as the log linear model discussed earlier in the lecture.\n",
    "\n",
    "Notice that more patient agents typically have higher wealth.\n",
    "\n",
    "Replicate the figure modulo randomness."
   ]
  },
  {
   "cell_type": "markdown",
   "id": "cf2aa9fe",
   "metadata": {},
   "source": [
    "## Solutions"
   ]
  },
  {
   "cell_type": "markdown",
   "id": "9da4bab6",
   "metadata": {},
   "source": [
    "### Exercise 1\n",
    "\n",
    "Here’s one solution (assuming as usual that you’ve executed everything above)"
   ]
  },
  {
   "cell_type": "code",
   "execution_count": null,
   "id": "7232e160",
   "metadata": {
    "hide-output": false
   },
   "outputs": [],
   "source": [
    "function simulate_og(σ, y0 = 0.1, ts_length=100)\n",
    "    y = zeros(ts_length)\n",
    "    ξ = randn(ts_length-1)\n",
    "    y[1] = y0\n",
    "    for t in 1:(ts_length-1)\n",
    "        y[t+1] = (y[t] - σ(y[t]))^α * exp(μ + s * ξ[t])\n",
    "    end\n",
    "    return y\n",
    "end\n",
    "\n",
    "plt = plot()\n",
    "\n",
    "for β in (0.9, 0.94, 0.98)\n",
    "    Tw = similar(grid_y)\n",
    "    initial_w = 5 * log.(grid_y)\n",
    "\n",
    "    v_star_approx = fixedpoint(w -> T(w, grid_y, β, u, f, shocks),\n",
    "                               initial_w).zero\n",
    "    Tw, σ = T(v_star_approx, grid_y, β, log, k -> k^α, shocks,\n",
    "                             compute_policy = true)\n",
    "    σ_func = LinearInterpolation(grid_y, σ)\n",
    "    y = simulate_og(σ_func)\n",
    "\n",
    "    plot!(plt, y, lw = 2, alpha = 0.6, label = label = \"beta = $β\")\n",
    "end\n",
    "\n",
    "plot!(plt, legend = :bottomright)"
   ]
  }
 ],
 "metadata": {
  "date": 1635274495.2586722,
  "filename": "optgrowth.md",
  "kernelspec": {
   "display_name": "Julia 1.6.3",
   "language": "julia",
   "name": "julia-1.6"
  },
  "language_info": {
   "file_extension": ".jl",
   "mimetype": "application/julia",
   "name": "julia",
   "version": "1.6.3"
  },
  "title": "Optimal Growth I: The Stochastic Optimal Growth Model"
 },
 "nbformat": 4,
 "nbformat_minor": 5
}
